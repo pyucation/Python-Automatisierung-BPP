{
 "cells": [
  {
   "cell_type": "markdown",
   "metadata": {},
   "source": [
    "# Pandas Grundlagen\n",
    "\n",
    "## Was ist pandas?\n",
    "Pandas ist eine der mächtigsten Bibliotheken für Python. Sie erlaubt es uns Daten sehr einfach zu strukturieren und zu analysiseren. Außerdem bietet es viele nützliche Funktionen, um bspw. \"ungünstige\" Datensätze zu bereinigen, oder statistische Grundfunktionalitäten auf einen Datensatz anzuwenden.\\\n",
    "Dieses Tutorial basiert im Wesentlichen auf:\n",
    "- https://levelup.gitconnected.com/pandas-basics-cheat-sheet-2023-python-for-data-science-b59fb7786b4d\n",
    "- https://www.w3schools.com/python/pandas/pandas_intro.asp"
   ]
  },
  {
   "cell_type": "code",
   "execution_count": 1,
   "metadata": {},
   "outputs": [],
   "source": [
    "import pandas as pd"
   ]
  },
  {
   "cell_type": "markdown",
   "metadata": {},
   "source": [
    "## Unser Obststand\n",
    "\n",
    "Nehmen wir einmal an, dass wir einen Obststand haben. Dort werden Äpfel und Birnen angeboten. In unserem DataFrame wollen wir für jede Frucht eine eigene Spalte haben. Außerdem wollen wir eine neue Zeile für jede Kundenbestellung haben.\n",
    "\n",
    "<table>\n",
    "  <thead>\n",
    "    <tr>\n",
    "      <th>Äpfel</th>\n",
    "      <th>Birnen</th>\n",
    "    </tr>\n",
    "  </thead>\n",
    "  <tbody>\n",
    "    <tr>\n",
    "      <td>4</td>\n",
    "      <td>0</td>\n",
    "    </tr>\n",
    "    <tr>\n",
    "      <td>2</td>\n",
    "      <td>2</td>\n",
    "    </tr>\n",
    "    <tr>\n",
    "      <td>0</td>\n",
    "      <td>8</td>\n",
    "    </tr>\n",
    "    <tr>\n",
    "      <td>3</td>\n",
    "      <td>0</td>\n",
    "    </tr>\n",
    "  </tbody>\n",
    "</table>"
   ]
  },
  {
   "cell_type": "code",
   "execution_count": 2,
   "metadata": {},
   "outputs": [],
   "source": [
    "data = {'äpfel': [4, 2, 0, 3], 'birnen': [0, 2, 8, 0]}"
   ]
  },
  {
   "cell_type": "code",
   "execution_count": 3,
   "metadata": {},
   "outputs": [
    {
     "data": {
      "text/html": [
       "<div>\n",
       "<style scoped>\n",
       "    .dataframe tbody tr th:only-of-type {\n",
       "        vertical-align: middle;\n",
       "    }\n",
       "\n",
       "    .dataframe tbody tr th {\n",
       "        vertical-align: top;\n",
       "    }\n",
       "\n",
       "    .dataframe thead th {\n",
       "        text-align: right;\n",
       "    }\n",
       "</style>\n",
       "<table border=\"1\" class=\"dataframe\">\n",
       "  <thead>\n",
       "    <tr style=\"text-align: right;\">\n",
       "      <th></th>\n",
       "      <th>äpfel</th>\n",
       "      <th>birnen</th>\n",
       "    </tr>\n",
       "  </thead>\n",
       "  <tbody>\n",
       "    <tr>\n",
       "      <th>0</th>\n",
       "      <td>4</td>\n",
       "      <td>0</td>\n",
       "    </tr>\n",
       "    <tr>\n",
       "      <th>1</th>\n",
       "      <td>2</td>\n",
       "      <td>2</td>\n",
       "    </tr>\n",
       "    <tr>\n",
       "      <th>2</th>\n",
       "      <td>0</td>\n",
       "      <td>8</td>\n",
       "    </tr>\n",
       "    <tr>\n",
       "      <th>3</th>\n",
       "      <td>3</td>\n",
       "      <td>0</td>\n",
       "    </tr>\n",
       "  </tbody>\n",
       "</table>\n",
       "</div>"
      ],
      "text/plain": [
       "   äpfel  birnen\n",
       "0      4       0\n",
       "1      2       2\n",
       "2      0       8\n",
       "3      3       0"
      ]
     },
     "execution_count": 3,
     "metadata": {},
     "output_type": "execute_result"
    }
   ],
   "source": [
    "bestellungen = pd.DataFrame(data)\n",
    "bestellungen.head()"
   ]
  },
  {
   "cell_type": "markdown",
   "metadata": {},
   "source": [
    "#### Erklärung zum Index\n",
    "Jedes (Schlüssel, Wert) Element in den Daten (data) entspricht einer Spalte im resultierenden DataFrame.\n",
    "\n",
    "Der Index dieses DataFrames wurde uns bei der Erstellung als die Zahlen 0-3 gegeben. Alternativ können wir unsere eigenen Indizes erstellen, wenn wir den DataFrame initialisieren. Hier ein Beispiel, in dem wir Kundennamen als Index nehmen:"
   ]
  },
  {
   "cell_type": "code",
   "execution_count": 5,
   "metadata": {},
   "outputs": [
    {
     "data": {
      "text/html": [
       "<div>\n",
       "<style scoped>\n",
       "    .dataframe tbody tr th:only-of-type {\n",
       "        vertical-align: middle;\n",
       "    }\n",
       "\n",
       "    .dataframe tbody tr th {\n",
       "        vertical-align: top;\n",
       "    }\n",
       "\n",
       "    .dataframe thead th {\n",
       "        text-align: right;\n",
       "    }\n",
       "</style>\n",
       "<table border=\"1\" class=\"dataframe\">\n",
       "  <thead>\n",
       "    <tr style=\"text-align: right;\">\n",
       "      <th></th>\n",
       "      <th>äpfel</th>\n",
       "      <th>birnen</th>\n",
       "    </tr>\n",
       "  </thead>\n",
       "  <tbody>\n",
       "    <tr>\n",
       "      <th>Hans</th>\n",
       "      <td>4</td>\n",
       "      <td>0</td>\n",
       "    </tr>\n",
       "    <tr>\n",
       "      <th>Sabine</th>\n",
       "      <td>2</td>\n",
       "      <td>2</td>\n",
       "    </tr>\n",
       "    <tr>\n",
       "      <th>Wolfgang</th>\n",
       "      <td>0</td>\n",
       "      <td>8</td>\n",
       "    </tr>\n",
       "    <tr>\n",
       "      <th>Anette</th>\n",
       "      <td>3</td>\n",
       "      <td>0</td>\n",
       "    </tr>\n",
       "  </tbody>\n",
       "</table>\n",
       "</div>"
      ],
      "text/plain": [
       "          äpfel  birnen\n",
       "Hans          4       0\n",
       "Sabine        2       2\n",
       "Wolfgang      0       8\n",
       "Anette        3       0"
      ]
     },
     "execution_count": 5,
     "metadata": {},
     "output_type": "execute_result"
    }
   ],
   "source": [
    "bestellungen = pd.DataFrame(data, index=['Hans', 'Sabine', 'Wolfgang', 'Anette'])\n",
    "bestellungen.head()"
   ]
  },
  {
   "cell_type": "markdown",
   "metadata": {},
   "source": [
    "#### Externe Daten laden"
   ]
  },
  {
   "cell_type": "code",
   "execution_count": 6,
   "metadata": {},
   "outputs": [
    {
     "data": {
      "text/html": [
       "<div>\n",
       "<style scoped>\n",
       "    .dataframe tbody tr th:only-of-type {\n",
       "        vertical-align: middle;\n",
       "    }\n",
       "\n",
       "    .dataframe tbody tr th {\n",
       "        vertical-align: top;\n",
       "    }\n",
       "\n",
       "    .dataframe thead th {\n",
       "        text-align: right;\n",
       "    }\n",
       "</style>\n",
       "<table border=\"1\" class=\"dataframe\">\n",
       "  <thead>\n",
       "    <tr style=\"text-align: right;\">\n",
       "      <th></th>\n",
       "      <th>Unnamed: 0</th>\n",
       "      <th>Äpfel</th>\n",
       "      <th>Birnen</th>\n",
       "    </tr>\n",
       "  </thead>\n",
       "  <tbody>\n",
       "    <tr>\n",
       "      <th>0</th>\n",
       "      <td>Hans</td>\n",
       "      <td>4</td>\n",
       "      <td>0</td>\n",
       "    </tr>\n",
       "    <tr>\n",
       "      <th>1</th>\n",
       "      <td>Sabine</td>\n",
       "      <td>2</td>\n",
       "      <td>2</td>\n",
       "    </tr>\n",
       "    <tr>\n",
       "      <th>2</th>\n",
       "      <td>Wolfgang</td>\n",
       "      <td>0</td>\n",
       "      <td>8</td>\n",
       "    </tr>\n",
       "    <tr>\n",
       "      <th>3</th>\n",
       "      <td>Anette</td>\n",
       "      <td>3</td>\n",
       "      <td>0</td>\n",
       "    </tr>\n",
       "  </tbody>\n",
       "</table>\n",
       "</div>"
      ],
      "text/plain": [
       "  Unnamed: 0  Äpfel  Birnen\n",
       "0       Hans      4       0\n",
       "1     Sabine      2       2\n",
       "2   Wolfgang      0       8\n",
       "3     Anette      3       0"
      ]
     },
     "execution_count": 6,
     "metadata": {},
     "output_type": "execute_result"
    }
   ],
   "source": [
    "df = pd.read_csv('bestellungen.csv')\n",
    "df.head()"
   ]
  },
  {
   "cell_type": "markdown",
   "metadata": {},
   "source": [
    "Wir stellen fest, dass die Namen irgendwie komisch aussehen. Das liegt daran, dass, wenn wir diese als Indexspalte verwenden wollen, sie auch angeben müssen."
   ]
  },
  {
   "cell_type": "code",
   "execution_count": 7,
   "metadata": {},
   "outputs": [
    {
     "data": {
      "text/html": [
       "<div>\n",
       "<style scoped>\n",
       "    .dataframe tbody tr th:only-of-type {\n",
       "        vertical-align: middle;\n",
       "    }\n",
       "\n",
       "    .dataframe tbody tr th {\n",
       "        vertical-align: top;\n",
       "    }\n",
       "\n",
       "    .dataframe thead th {\n",
       "        text-align: right;\n",
       "    }\n",
       "</style>\n",
       "<table border=\"1\" class=\"dataframe\">\n",
       "  <thead>\n",
       "    <tr style=\"text-align: right;\">\n",
       "      <th></th>\n",
       "      <th>Äpfel</th>\n",
       "      <th>Birnen</th>\n",
       "    </tr>\n",
       "  </thead>\n",
       "  <tbody>\n",
       "    <tr>\n",
       "      <th>Hans</th>\n",
       "      <td>4</td>\n",
       "      <td>0</td>\n",
       "    </tr>\n",
       "    <tr>\n",
       "      <th>Sabine</th>\n",
       "      <td>2</td>\n",
       "      <td>2</td>\n",
       "    </tr>\n",
       "    <tr>\n",
       "      <th>Wolfgang</th>\n",
       "      <td>0</td>\n",
       "      <td>8</td>\n",
       "    </tr>\n",
       "    <tr>\n",
       "      <th>Anette</th>\n",
       "      <td>3</td>\n",
       "      <td>0</td>\n",
       "    </tr>\n",
       "  </tbody>\n",
       "</table>\n",
       "</div>"
      ],
      "text/plain": [
       "          Äpfel  Birnen\n",
       "Hans          4       0\n",
       "Sabine        2       2\n",
       "Wolfgang      0       8\n",
       "Anette        3       0"
      ]
     },
     "execution_count": 7,
     "metadata": {},
     "output_type": "execute_result"
    }
   ],
   "source": [
    "df = pd.read_csv('bestellungen.csv', index_col=0)\n",
    "df.head()"
   ]
  },
  {
   "cell_type": "markdown",
   "metadata": {},
   "source": [
    "_In den meisten Fällen hat man jedoch keine solche Indexspalte, weswegen man sich oft nicht darum kümmern muss._"
   ]
  },
  {
   "cell_type": "markdown",
   "metadata": {},
   "source": [
    "### Die wichtigsten DataFrame-Operationen"
   ]
  },
  {
   "cell_type": "code",
   "execution_count": 11,
   "metadata": {},
   "outputs": [
    {
     "data": {
      "text/html": [
       "<div>\n",
       "<style scoped>\n",
       "    .dataframe tbody tr th:only-of-type {\n",
       "        vertical-align: middle;\n",
       "    }\n",
       "\n",
       "    .dataframe tbody tr th {\n",
       "        vertical-align: top;\n",
       "    }\n",
       "\n",
       "    .dataframe thead th {\n",
       "        text-align: right;\n",
       "    }\n",
       "</style>\n",
       "<table border=\"1\" class=\"dataframe\">\n",
       "  <thead>\n",
       "    <tr style=\"text-align: right;\">\n",
       "      <th></th>\n",
       "      <th>Äpfel</th>\n",
       "      <th>Birnen</th>\n",
       "    </tr>\n",
       "  </thead>\n",
       "  <tbody>\n",
       "    <tr>\n",
       "      <th>Hans</th>\n",
       "      <td>4</td>\n",
       "      <td>0</td>\n",
       "    </tr>\n",
       "    <tr>\n",
       "      <th>Sabine</th>\n",
       "      <td>2</td>\n",
       "      <td>2</td>\n",
       "    </tr>\n",
       "  </tbody>\n",
       "</table>\n",
       "</div>"
      ],
      "text/plain": [
       "        Äpfel  Birnen\n",
       "Hans        4       0\n",
       "Sabine      2       2"
      ]
     },
     "execution_count": 11,
     "metadata": {},
     "output_type": "execute_result"
    }
   ],
   "source": [
    "# die ersten Zeilen geben wir mit head() aus, standardmäßig sind das 5\n",
    "df.head(2)"
   ]
  },
  {
   "cell_type": "code",
   "execution_count": 10,
   "metadata": {},
   "outputs": [
    {
     "data": {
      "text/html": [
       "<div>\n",
       "<style scoped>\n",
       "    .dataframe tbody tr th:only-of-type {\n",
       "        vertical-align: middle;\n",
       "    }\n",
       "\n",
       "    .dataframe tbody tr th {\n",
       "        vertical-align: top;\n",
       "    }\n",
       "\n",
       "    .dataframe thead th {\n",
       "        text-align: right;\n",
       "    }\n",
       "</style>\n",
       "<table border=\"1\" class=\"dataframe\">\n",
       "  <thead>\n",
       "    <tr style=\"text-align: right;\">\n",
       "      <th></th>\n",
       "      <th>Äpfel</th>\n",
       "      <th>Birnen</th>\n",
       "    </tr>\n",
       "  </thead>\n",
       "  <tbody>\n",
       "    <tr>\n",
       "      <th>Wolfgang</th>\n",
       "      <td>0</td>\n",
       "      <td>8</td>\n",
       "    </tr>\n",
       "    <tr>\n",
       "      <th>Anette</th>\n",
       "      <td>3</td>\n",
       "      <td>0</td>\n",
       "    </tr>\n",
       "  </tbody>\n",
       "</table>\n",
       "</div>"
      ],
      "text/plain": [
       "          Äpfel  Birnen\n",
       "Wolfgang      0       8\n",
       "Anette        3       0"
      ]
     },
     "execution_count": 10,
     "metadata": {},
     "output_type": "execute_result"
    }
   ],
   "source": [
    "# die letzten (auch standardmäßig 5) Zeilen geben wir mit tail() aus\n",
    "df.tail(2)"
   ]
  },
  {
   "cell_type": "code",
   "execution_count": 13,
   "metadata": {},
   "outputs": [
    {
     "data": {
      "text/plain": [
       "(4, 2)"
      ]
     },
     "execution_count": 13,
     "metadata": {},
     "output_type": "execute_result"
    }
   ],
   "source": [
    "# shape gibt uns ein Tuple mit den (Zeilen, Spalten) in unserem Dataframe\n",
    "df.shape"
   ]
  },
  {
   "cell_type": "code",
   "execution_count": 14,
   "metadata": {},
   "outputs": [
    {
     "data": {
      "text/plain": [
       "True"
      ]
     },
     "execution_count": 14,
     "metadata": {},
     "output_type": "execute_result"
    }
   ],
   "source": [
    "# überprüfen, ob wir Duplikate haben, indem wir diese droppen\n",
    "df_temp = df.drop_duplicates()\n",
    "df_temp.shape == df.shape"
   ]
  },
  {
   "cell_type": "markdown",
   "metadata": {},
   "source": [
    "**Wichtig**: Die meisten solcher Funktionen, wie `drop_duplicates()`, `append()`, usw. geben Kopien des ursprünglichen DataFrames zurück. Das immer im Hinterkopf behalten. Vermeiden können wir das, indem wir das Argument `inplace=True` übergeben."
   ]
  },
  {
   "cell_type": "code",
   "execution_count": 15,
   "metadata": {},
   "outputs": [],
   "source": [
    "df.drop_duplicates(inplace=True)"
   ]
  },
  {
   "cell_type": "code",
   "execution_count": 16,
   "metadata": {},
   "outputs": [
    {
     "data": {
      "text/plain": [
       "Index(['Äpfel', 'Birnen'], dtype='object')"
      ]
     },
     "execution_count": 16,
     "metadata": {},
     "output_type": "execute_result"
    }
   ],
   "source": [
    "# Spaltennamen anzeigen\n",
    "df.columns"
   ]
  },
  {
   "cell_type": "code",
   "execution_count": 17,
   "metadata": {},
   "outputs": [
    {
     "data": {
      "text/html": [
       "<div>\n",
       "<style scoped>\n",
       "    .dataframe tbody tr th:only-of-type {\n",
       "        vertical-align: middle;\n",
       "    }\n",
       "\n",
       "    .dataframe tbody tr th {\n",
       "        vertical-align: top;\n",
       "    }\n",
       "\n",
       "    .dataframe thead th {\n",
       "        text-align: right;\n",
       "    }\n",
       "</style>\n",
       "<table border=\"1\" class=\"dataframe\">\n",
       "  <thead>\n",
       "    <tr style=\"text-align: right;\">\n",
       "      <th></th>\n",
       "      <th>Tomaten</th>\n",
       "      <th>Birnen</th>\n",
       "    </tr>\n",
       "  </thead>\n",
       "  <tbody>\n",
       "    <tr>\n",
       "      <th>Hans</th>\n",
       "      <td>4</td>\n",
       "      <td>0</td>\n",
       "    </tr>\n",
       "    <tr>\n",
       "      <th>Sabine</th>\n",
       "      <td>2</td>\n",
       "      <td>2</td>\n",
       "    </tr>\n",
       "    <tr>\n",
       "      <th>Wolfgang</th>\n",
       "      <td>0</td>\n",
       "      <td>8</td>\n",
       "    </tr>\n",
       "    <tr>\n",
       "      <th>Anette</th>\n",
       "      <td>3</td>\n",
       "      <td>0</td>\n",
       "    </tr>\n",
       "  </tbody>\n",
       "</table>\n",
       "</div>"
      ],
      "text/plain": [
       "          Tomaten  Birnen\n",
       "Hans            4       0\n",
       "Sabine          2       2\n",
       "Wolfgang        0       8\n",
       "Anette          3       0"
      ]
     },
     "execution_count": 17,
     "metadata": {},
     "output_type": "execute_result"
    }
   ],
   "source": [
    "# Spalten umbenennen\n",
    "df.rename(columns={\"Äpfel\": \"Tomaten\"}, inplace=True)\n",
    "df"
   ]
  },
  {
   "cell_type": "code",
   "execution_count": 20,
   "metadata": {},
   "outputs": [
    {
     "data": {
      "text/html": [
       "<div>\n",
       "<style scoped>\n",
       "    .dataframe tbody tr th:only-of-type {\n",
       "        vertical-align: middle;\n",
       "    }\n",
       "\n",
       "    .dataframe tbody tr th {\n",
       "        vertical-align: top;\n",
       "    }\n",
       "\n",
       "    .dataframe thead th {\n",
       "        text-align: right;\n",
       "    }\n",
       "</style>\n",
       "<table border=\"1\" class=\"dataframe\">\n",
       "  <thead>\n",
       "    <tr style=\"text-align: right;\">\n",
       "      <th></th>\n",
       "      <th>Tomaten</th>\n",
       "      <th>Birnen</th>\n",
       "    </tr>\n",
       "  </thead>\n",
       "  <tbody>\n",
       "    <tr>\n",
       "      <th>Hans</th>\n",
       "      <td>4</td>\n",
       "      <td>0</td>\n",
       "    </tr>\n",
       "    <tr>\n",
       "      <th>Sabine</th>\n",
       "      <td>2</td>\n",
       "      <td>2</td>\n",
       "    </tr>\n",
       "    <tr>\n",
       "      <th>Wolfgang</th>\n",
       "      <td>0</td>\n",
       "      <td>8</td>\n",
       "    </tr>\n",
       "    <tr>\n",
       "      <th>Anette</th>\n",
       "      <td>3</td>\n",
       "      <td>0</td>\n",
       "    </tr>\n",
       "    <tr>\n",
       "      <th>Peter</th>\n",
       "      <td>5</td>\n",
       "      <td>&lt;NA&gt;</td>\n",
       "    </tr>\n",
       "  </tbody>\n",
       "</table>\n",
       "</div>"
      ],
      "text/plain": [
       "          Tomaten Birnen\n",
       "Hans            4      0\n",
       "Sabine          2      2\n",
       "Wolfgang        0      8\n",
       "Anette          3      0\n",
       "Peter           5   <NA>"
      ]
     },
     "execution_count": 20,
     "metadata": {},
     "output_type": "execute_result"
    }
   ],
   "source": [
    "# Für das folgende Beispiel füge ich eine neue Zeile zum Dataframe hinzu. Diese enthält einen leeren Eintrag.\n",
    "df.loc[\"Peter\"] = [5, pd.NA]\n",
    "df"
   ]
  },
  {
   "cell_type": "code",
   "execution_count": 21,
   "metadata": {},
   "outputs": [
    {
     "data": {
      "text/html": [
       "<div>\n",
       "<style scoped>\n",
       "    .dataframe tbody tr th:only-of-type {\n",
       "        vertical-align: middle;\n",
       "    }\n",
       "\n",
       "    .dataframe tbody tr th {\n",
       "        vertical-align: top;\n",
       "    }\n",
       "\n",
       "    .dataframe thead th {\n",
       "        text-align: right;\n",
       "    }\n",
       "</style>\n",
       "<table border=\"1\" class=\"dataframe\">\n",
       "  <thead>\n",
       "    <tr style=\"text-align: right;\">\n",
       "      <th></th>\n",
       "      <th>Tomaten</th>\n",
       "      <th>Birnen</th>\n",
       "    </tr>\n",
       "  </thead>\n",
       "  <tbody>\n",
       "    <tr>\n",
       "      <th>Hans</th>\n",
       "      <td>False</td>\n",
       "      <td>False</td>\n",
       "    </tr>\n",
       "    <tr>\n",
       "      <th>Sabine</th>\n",
       "      <td>False</td>\n",
       "      <td>False</td>\n",
       "    </tr>\n",
       "    <tr>\n",
       "      <th>Wolfgang</th>\n",
       "      <td>False</td>\n",
       "      <td>False</td>\n",
       "    </tr>\n",
       "    <tr>\n",
       "      <th>Anette</th>\n",
       "      <td>False</td>\n",
       "      <td>False</td>\n",
       "    </tr>\n",
       "    <tr>\n",
       "      <th>Peter</th>\n",
       "      <td>False</td>\n",
       "      <td>True</td>\n",
       "    </tr>\n",
       "  </tbody>\n",
       "</table>\n",
       "</div>"
      ],
      "text/plain": [
       "          Tomaten  Birnen\n",
       "Hans        False   False\n",
       "Sabine      False   False\n",
       "Wolfgang    False   False\n",
       "Anette      False   False\n",
       "Peter       False    True"
      ]
     },
     "execution_count": 21,
     "metadata": {},
     "output_type": "execute_result"
    }
   ],
   "source": [
    "# herausfinden, ob eine Spalte fehlende Einträge hat (das ist manchmal wichtig)\n",
    "df.isnull()"
   ]
  },
  {
   "cell_type": "code",
   "execution_count": 22,
   "metadata": {},
   "outputs": [
    {
     "data": {
      "text/plain": [
       "Tomaten    0\n",
       "Birnen     1\n",
       "dtype: int64"
      ]
     },
     "execution_count": 22,
     "metadata": {},
     "output_type": "execute_result"
    }
   ],
   "source": [
    "# isnull() ist nicht besonders hilfreich, wenn wir viele Daten haben\n",
    "df.isnull().sum() # ... ist da schon nützlicher"
   ]
  },
  {
   "cell_type": "markdown",
   "metadata": {},
   "source": [
    "Wir sehen also, dass in der Spalte Birnen eine Nullzeile vorhanden ist."
   ]
  },
  {
   "cell_type": "code",
   "execution_count": 24,
   "metadata": {},
   "outputs": [
    {
     "data": {
      "text/html": [
       "<div>\n",
       "<style scoped>\n",
       "    .dataframe tbody tr th:only-of-type {\n",
       "        vertical-align: middle;\n",
       "    }\n",
       "\n",
       "    .dataframe tbody tr th {\n",
       "        vertical-align: top;\n",
       "    }\n",
       "\n",
       "    .dataframe thead th {\n",
       "        text-align: right;\n",
       "    }\n",
       "</style>\n",
       "<table border=\"1\" class=\"dataframe\">\n",
       "  <thead>\n",
       "    <tr style=\"text-align: right;\">\n",
       "      <th></th>\n",
       "      <th>Tomaten</th>\n",
       "      <th>Birnen</th>\n",
       "    </tr>\n",
       "  </thead>\n",
       "  <tbody>\n",
       "    <tr>\n",
       "      <th>Hans</th>\n",
       "      <td>4</td>\n",
       "      <td>0</td>\n",
       "    </tr>\n",
       "    <tr>\n",
       "      <th>Sabine</th>\n",
       "      <td>2</td>\n",
       "      <td>2</td>\n",
       "    </tr>\n",
       "    <tr>\n",
       "      <th>Wolfgang</th>\n",
       "      <td>0</td>\n",
       "      <td>8</td>\n",
       "    </tr>\n",
       "    <tr>\n",
       "      <th>Anette</th>\n",
       "      <td>3</td>\n",
       "      <td>0</td>\n",
       "    </tr>\n",
       "  </tbody>\n",
       "</table>\n",
       "</div>"
      ],
      "text/plain": [
       "          Tomaten Birnen\n",
       "Hans            4      0\n",
       "Sabine          2      2\n",
       "Wolfgang        0      8\n",
       "Anette          3      0"
      ]
     },
     "execution_count": 24,
     "metadata": {},
     "output_type": "execute_result"
    }
   ],
   "source": [
    "# entfernen von Nullzeilen\n",
    "df = df.dropna()\n",
    "df"
   ]
  },
  {
   "cell_type": "markdown",
   "metadata": {},
   "source": [
    "Diese Operation löscht jede Zeile mit mindestens einem Nullwert, aber sie gibt einen neuen DataFrame zurück, ohne den ursprünglichen zu verändern.\n",
    "\n",
    "Du kannst auch `inplace=True` in dieser Methode angeben."
   ]
  },
  {
   "cell_type": "markdown",
   "metadata": {},
   "source": [
    "#### Daten aus dem DataFrame extrahieren"
   ]
  },
  {
   "cell_type": "code",
   "execution_count": 27,
   "metadata": {},
   "outputs": [
    {
     "name": "stdout",
     "output_type": "stream",
     "text": [
      "Hans        0\n",
      "Sabine      2\n",
      "Wolfgang    8\n",
      "Anette      0\n",
      "Name: Birnen, dtype: object\n",
      "<class 'pandas.core.series.Series'>\n"
     ]
    }
   ],
   "source": [
    "birnen_spalte = df[\"Birnen\"]\n",
    "print(birnen_spalte)\n",
    "print(type(birnen_spalte))"
   ]
  },
  {
   "cell_type": "markdown",
   "metadata": {},
   "source": [
    "Obiger Code-Zeilen werden eine _Series_ zurückgeben. Um eine Spalte als DataFrame zu extrahieren, musst du eine Liste von Spaltennamen übergeben. In unserem Fall ist das nur eine einzelne Spalte:"
   ]
  },
  {
   "cell_type": "code",
   "execution_count": 28,
   "metadata": {},
   "outputs": [
    {
     "name": "stdout",
     "output_type": "stream",
     "text": [
      "         Birnen\n",
      "Hans          0\n",
      "Sabine        2\n",
      "Wolfgang      8\n",
      "Anette        0\n",
      "<class 'pandas.core.frame.DataFrame'>\n"
     ]
    }
   ],
   "source": [
    "birnen_spalte = df[[\"Birnen\"]]\n",
    "print(birnen_spalte)\n",
    "print(type(birnen_spalte))"
   ]
  },
  {
   "cell_type": "markdown",
   "metadata": {},
   "source": [
    "Nach Zeilen extrahieren können wir mit:<br>\n",
    "1. `.loc` - lokalisiert nach Name\n",
    "2. `.iloc` - sucht nach numerischem Index"
   ]
  },
  {
   "cell_type": "code",
   "execution_count": 29,
   "metadata": {},
   "outputs": [
    {
     "data": {
      "text/plain": [
       "Tomaten    4\n",
       "Birnen     0\n",
       "Name: Hans, dtype: object"
      ]
     },
     "execution_count": 29,
     "metadata": {},
     "output_type": "execute_result"
    }
   ],
   "source": [
    "hans = df.loc[\"Hans\"]\n",
    "hans"
   ]
  },
  {
   "cell_type": "code",
   "execution_count": 30,
   "metadata": {},
   "outputs": [
    {
     "data": {
      "text/plain": [
       "Tomaten    2\n",
       "Birnen     2\n",
       "Name: Sabine, dtype: object"
      ]
     },
     "execution_count": 30,
     "metadata": {},
     "output_type": "execute_result"
    }
   ],
   "source": [
    "sabine = df.iloc[1]\n",
    "sabine"
   ]
  },
  {
   "cell_type": "code",
   "execution_count": 31,
   "metadata": {},
   "outputs": [
    {
     "data": {
      "text/html": [
       "<div>\n",
       "<style scoped>\n",
       "    .dataframe tbody tr th:only-of-type {\n",
       "        vertical-align: middle;\n",
       "    }\n",
       "\n",
       "    .dataframe tbody tr th {\n",
       "        vertical-align: top;\n",
       "    }\n",
       "\n",
       "    .dataframe thead th {\n",
       "        text-align: right;\n",
       "    }\n",
       "</style>\n",
       "<table border=\"1\" class=\"dataframe\">\n",
       "  <thead>\n",
       "    <tr style=\"text-align: right;\">\n",
       "      <th></th>\n",
       "      <th>Tomaten</th>\n",
       "      <th>Birnen</th>\n",
       "    </tr>\n",
       "  </thead>\n",
       "  <tbody>\n",
       "    <tr>\n",
       "      <th>Hans</th>\n",
       "      <td>4</td>\n",
       "      <td>0</td>\n",
       "    </tr>\n",
       "    <tr>\n",
       "      <th>Sabine</th>\n",
       "      <td>2</td>\n",
       "      <td>2</td>\n",
       "    </tr>\n",
       "    <tr>\n",
       "      <th>Wolfgang</th>\n",
       "      <td>0</td>\n",
       "      <td>8</td>\n",
       "    </tr>\n",
       "  </tbody>\n",
       "</table>\n",
       "</div>"
      ],
      "text/plain": [
       "          Tomaten Birnen\n",
       "Hans            4      0\n",
       "Sabine          2      2\n",
       "Wolfgang        0      8"
      ]
     },
     "execution_count": 31,
     "metadata": {},
     "output_type": "execute_result"
    }
   ],
   "source": [
    "# auch slicing ist hier möglich\n",
    "erste_drei = df.iloc[:3]\n",
    "erste_drei"
   ]
  },
  {
   "cell_type": "code",
   "execution_count": 32,
   "metadata": {},
   "outputs": [
    {
     "name": "stdout",
     "output_type": "stream",
     "text": [
      "Hans         True\n",
      "Sabine       True\n",
      "Wolfgang    False\n",
      "Anette       True\n",
      "Name: Tomaten, dtype: bool\n"
     ]
    }
   ],
   "source": [
    "# Auswahl mit Bedingung\n",
    "mit_bedingung = (df[\"Tomaten\"] > 1)\n",
    "print(mit_bedingung)"
   ]
  },
  {
   "cell_type": "markdown",
   "metadata": {},
   "source": [
    "Ähnlich wie `isnull()` gibt uns das nur eine Tabelle mit `True` und `False` zurück ... nicht so praktisch. Wir wollen aber die False-Fälle herausfiltern:"
   ]
  },
  {
   "cell_type": "code",
   "execution_count": 33,
   "metadata": {},
   "outputs": [
    {
     "name": "stdout",
     "output_type": "stream",
     "text": [
      "        Tomaten Birnen\n",
      "Hans          4      0\n",
      "Sabine        2      2\n",
      "Anette        3      0\n"
     ]
    }
   ],
   "source": [
    "# vorstellen/sagen kann man sich das wie folgt: Dataframe an der Stelle/den Stellen\n",
    "# wo der Dataframe in der Spalte \"Tomaten\" größer als 1 ist\n",
    "mit_bedingung = df[df[\"Tomaten\"] > 1]\n",
    "print(mit_bedingung)"
   ]
  },
  {
   "cell_type": "code",
   "execution_count": 35,
   "metadata": {},
   "outputs": [
    {
     "data": {
      "text/html": [
       "<div>\n",
       "<style scoped>\n",
       "    .dataframe tbody tr th:only-of-type {\n",
       "        vertical-align: middle;\n",
       "    }\n",
       "\n",
       "    .dataframe tbody tr th {\n",
       "        vertical-align: top;\n",
       "    }\n",
       "\n",
       "    .dataframe thead th {\n",
       "        text-align: right;\n",
       "    }\n",
       "</style>\n",
       "<table border=\"1\" class=\"dataframe\">\n",
       "  <thead>\n",
       "    <tr style=\"text-align: right;\">\n",
       "      <th></th>\n",
       "      <th>Tomaten</th>\n",
       "      <th>Birnen</th>\n",
       "    </tr>\n",
       "  </thead>\n",
       "  <tbody>\n",
       "    <tr>\n",
       "      <th>Sabine</th>\n",
       "      <td>2</td>\n",
       "      <td>2</td>\n",
       "    </tr>\n",
       "  </tbody>\n",
       "</table>\n",
       "</div>"
      ],
      "text/plain": [
       "        Tomaten Birnen\n",
       "Sabine        2      2"
      ]
     },
     "execution_count": 35,
     "metadata": {},
     "output_type": "execute_result"
    }
   ],
   "source": [
    "# kombinieren von Bedingungen\n",
    "neue_bedingung = df[(df[\"Tomaten\"] == 2) & (df[\"Birnen\"] == 2)]\n",
    "neue_bedingung"
   ]
  },
  {
   "cell_type": "markdown",
   "metadata": {},
   "source": [
    "_Ein logisches ODER kann man mit dem | Operator nutzen._"
   ]
  },
  {
   "cell_type": "markdown",
   "metadata": {},
   "source": [
    "### Mehr Daten: eigener Datensatz\n",
    "Wir schauen uns nun den Studentendatensatz beispielhaft an."
   ]
  },
  {
   "cell_type": "code",
   "execution_count": 59,
   "metadata": {},
   "outputs": [
    {
     "data": {
      "text/html": [
       "<div>\n",
       "<style scoped>\n",
       "    .dataframe tbody tr th:only-of-type {\n",
       "        vertical-align: middle;\n",
       "    }\n",
       "\n",
       "    .dataframe tbody tr th {\n",
       "        vertical-align: top;\n",
       "    }\n",
       "\n",
       "    .dataframe thead th {\n",
       "        text-align: right;\n",
       "    }\n",
       "</style>\n",
       "<table border=\"1\" class=\"dataframe\">\n",
       "  <thead>\n",
       "    <tr style=\"text-align: right;\">\n",
       "      <th></th>\n",
       "      <th>Name</th>\n",
       "      <th>Vorname</th>\n",
       "      <th>Matrikelnummer</th>\n",
       "      <th>Studienfach</th>\n",
       "      <th>Abschluss</th>\n",
       "      <th>Lieblingsfarbe</th>\n",
       "      <th>Abschlussnote</th>\n",
       "      <th>Alter</th>\n",
       "    </tr>\n",
       "  </thead>\n",
       "  <tbody>\n",
       "    <tr>\n",
       "      <th>0</th>\n",
       "      <td>Peterson</td>\n",
       "      <td>Peter</td>\n",
       "      <td>72940</td>\n",
       "      <td>Literaturgeschichte</td>\n",
       "      <td>Bachelor</td>\n",
       "      <td>lila</td>\n",
       "      <td>1.3</td>\n",
       "      <td>23</td>\n",
       "    </tr>\n",
       "    <tr>\n",
       "      <th>1</th>\n",
       "      <td>Hanson</td>\n",
       "      <td>Hans</td>\n",
       "      <td>97294</td>\n",
       "      <td>Politikwissenschaften</td>\n",
       "      <td>Bachelor</td>\n",
       "      <td>rot</td>\n",
       "      <td>2.7</td>\n",
       "      <td>34</td>\n",
       "    </tr>\n",
       "    <tr>\n",
       "      <th>2</th>\n",
       "      <td>Johannson</td>\n",
       "      <td>Johann</td>\n",
       "      <td>15384</td>\n",
       "      <td>Biochemie</td>\n",
       "      <td>Master</td>\n",
       "      <td>gelb</td>\n",
       "      <td>1.6</td>\n",
       "      <td>26</td>\n",
       "    </tr>\n",
       "    <tr>\n",
       "      <th>3</th>\n",
       "      <td>Maxson</td>\n",
       "      <td>Max</td>\n",
       "      <td>68536</td>\n",
       "      <td>Mathematik</td>\n",
       "      <td>Bachelor</td>\n",
       "      <td>rot</td>\n",
       "      <td>1.9</td>\n",
       "      <td>21</td>\n",
       "    </tr>\n",
       "    <tr>\n",
       "      <th>4</th>\n",
       "      <td>Peterson</td>\n",
       "      <td>Stefanie</td>\n",
       "      <td>57284</td>\n",
       "      <td>Erziehungswissenschaften</td>\n",
       "      <td>Bachelor</td>\n",
       "      <td>blau</td>\n",
       "      <td>2.1</td>\n",
       "      <td>24</td>\n",
       "    </tr>\n",
       "  </tbody>\n",
       "</table>\n",
       "</div>"
      ],
      "text/plain": [
       "        Name   Vorname  Matrikelnummer               Studienfach Abschluss  \\\n",
       "0   Peterson     Peter           72940       Literaturgeschichte  Bachelor   \n",
       "1     Hanson      Hans           97294     Politikwissenschaften  Bachelor   \n",
       "2  Johannson    Johann           15384                 Biochemie    Master   \n",
       "3     Maxson       Max           68536                Mathematik  Bachelor   \n",
       "4   Peterson  Stefanie           57284  Erziehungswissenschaften  Bachelor   \n",
       "\n",
       "  Lieblingsfarbe  Abschlussnote  Alter  \n",
       "0           lila            1.3     23  \n",
       "1            rot            2.7     34  \n",
       "2           gelb            1.6     26  \n",
       "3            rot            1.9     21  \n",
       "4           blau            2.1     24  "
      ]
     },
     "execution_count": 59,
     "metadata": {},
     "output_type": "execute_result"
    }
   ],
   "source": [
    "data = pd.read_csv('Übungen/studenten_datensatz.csv', delimiter=';')\n",
    "data.head()"
   ]
  },
  {
   "cell_type": "code",
   "execution_count": 46,
   "metadata": {},
   "outputs": [
    {
     "data": {
      "text/html": [
       "<div>\n",
       "<style scoped>\n",
       "    .dataframe tbody tr th:only-of-type {\n",
       "        vertical-align: middle;\n",
       "    }\n",
       "\n",
       "    .dataframe tbody tr th {\n",
       "        vertical-align: top;\n",
       "    }\n",
       "\n",
       "    .dataframe thead th {\n",
       "        text-align: right;\n",
       "    }\n",
       "</style>\n",
       "<table border=\"1\" class=\"dataframe\">\n",
       "  <thead>\n",
       "    <tr style=\"text-align: right;\">\n",
       "      <th></th>\n",
       "      <th>Matrikelnummer</th>\n",
       "      <th>Abschlussnote</th>\n",
       "      <th>Alter</th>\n",
       "    </tr>\n",
       "  </thead>\n",
       "  <tbody>\n",
       "    <tr>\n",
       "      <th>count</th>\n",
       "      <td>11.000000</td>\n",
       "      <td>11.000000</td>\n",
       "      <td>11.000000</td>\n",
       "    </tr>\n",
       "    <tr>\n",
       "      <th>mean</th>\n",
       "      <td>65662.454545</td>\n",
       "      <td>1.990909</td>\n",
       "      <td>25.545455</td>\n",
       "    </tr>\n",
       "    <tr>\n",
       "      <th>std</th>\n",
       "      <td>23814.782654</td>\n",
       "      <td>0.697789</td>\n",
       "      <td>4.344275</td>\n",
       "    </tr>\n",
       "    <tr>\n",
       "      <th>min</th>\n",
       "      <td>15384.000000</td>\n",
       "      <td>1.200000</td>\n",
       "      <td>19.000000</td>\n",
       "    </tr>\n",
       "    <tr>\n",
       "      <th>25%</th>\n",
       "      <td>61293.000000</td>\n",
       "      <td>1.400000</td>\n",
       "      <td>23.000000</td>\n",
       "    </tr>\n",
       "    <tr>\n",
       "      <th>50%</th>\n",
       "      <td>68536.000000</td>\n",
       "      <td>1.900000</td>\n",
       "      <td>25.000000</td>\n",
       "    </tr>\n",
       "    <tr>\n",
       "      <th>75%</th>\n",
       "      <td>74420.500000</td>\n",
       "      <td>2.550000</td>\n",
       "      <td>27.500000</td>\n",
       "    </tr>\n",
       "    <tr>\n",
       "      <th>max</th>\n",
       "      <td>97294.000000</td>\n",
       "      <td>3.100000</td>\n",
       "      <td>34.000000</td>\n",
       "    </tr>\n",
       "  </tbody>\n",
       "</table>\n",
       "</div>"
      ],
      "text/plain": [
       "       Matrikelnummer  Abschlussnote      Alter\n",
       "count       11.000000      11.000000  11.000000\n",
       "mean     65662.454545       1.990909  25.545455\n",
       "std      23814.782654       0.697789   4.344275\n",
       "min      15384.000000       1.200000  19.000000\n",
       "25%      61293.000000       1.400000  23.000000\n",
       "50%      68536.000000       1.900000  25.000000\n",
       "75%      74420.500000       2.550000  27.500000\n",
       "max      97294.000000       3.100000  34.000000"
      ]
     },
     "execution_count": 46,
     "metadata": {},
     "output_type": "execute_result"
    }
   ],
   "source": [
    "# deskriptive Statistiken zu unserem Dataframe\n",
    "data.describe()"
   ]
  },
  {
   "cell_type": "code",
   "execution_count": 40,
   "metadata": {},
   "outputs": [
    {
     "data": {
      "text/plain": [
       "Name              0\n",
       "Vorname           0\n",
       "Matrikelnummer    0\n",
       "Studienfach       0\n",
       "Abschluss         0\n",
       "Lieblingsfarbe    0\n",
       "Abschlussnote     0\n",
       "Alter             0\n",
       "dtype: int64"
      ]
     },
     "execution_count": 40,
     "metadata": {},
     "output_type": "execute_result"
    }
   ],
   "source": [
    "# Leerzeilen prüfen\n",
    "data.isna().sum()"
   ]
  },
  {
   "cell_type": "code",
   "execution_count": 48,
   "metadata": {},
   "outputs": [
    {
     "data": {
      "text/plain": [
       "1.9909090909090905"
      ]
     },
     "execution_count": 48,
     "metadata": {},
     "output_type": "execute_result"
    }
   ],
   "source": [
    "# Mittelwert der Noten\n",
    "data[\"Abschlussnote\"].mean()"
   ]
  },
  {
   "cell_type": "code",
   "execution_count": 41,
   "metadata": {},
   "outputs": [
    {
     "data": {
      "text/html": [
       "<div>\n",
       "<style scoped>\n",
       "    .dataframe tbody tr th:only-of-type {\n",
       "        vertical-align: middle;\n",
       "    }\n",
       "\n",
       "    .dataframe tbody tr th {\n",
       "        vertical-align: top;\n",
       "    }\n",
       "\n",
       "    .dataframe thead th {\n",
       "        text-align: right;\n",
       "    }\n",
       "</style>\n",
       "<table border=\"1\" class=\"dataframe\">\n",
       "  <thead>\n",
       "    <tr style=\"text-align: right;\">\n",
       "      <th></th>\n",
       "      <th>Name</th>\n",
       "      <th>Vorname</th>\n",
       "      <th>Matrikelnummer</th>\n",
       "      <th>Studienfach</th>\n",
       "      <th>Abschluss</th>\n",
       "      <th>Lieblingsfarbe</th>\n",
       "      <th>Abschlussnote</th>\n",
       "      <th>Alter</th>\n",
       "    </tr>\n",
       "  </thead>\n",
       "  <tbody>\n",
       "    <tr>\n",
       "      <th>1</th>\n",
       "      <td>Hanson</td>\n",
       "      <td>Hans</td>\n",
       "      <td>97294</td>\n",
       "      <td>Politikwissenschaften</td>\n",
       "      <td>Bachelor</td>\n",
       "      <td>rot</td>\n",
       "      <td>2.7</td>\n",
       "      <td>34</td>\n",
       "    </tr>\n",
       "    <tr>\n",
       "      <th>7</th>\n",
       "      <td>Gustavson</td>\n",
       "      <td>Gustav</td>\n",
       "      <td>33847</td>\n",
       "      <td>Politikwissenschaften</td>\n",
       "      <td>Bachelor</td>\n",
       "      <td>gelb</td>\n",
       "      <td>3.1</td>\n",
       "      <td>27</td>\n",
       "    </tr>\n",
       "    <tr>\n",
       "      <th>10</th>\n",
       "      <td>Lustig</td>\n",
       "      <td>Peter</td>\n",
       "      <td>73948</td>\n",
       "      <td>Biochemie</td>\n",
       "      <td>Master</td>\n",
       "      <td>gruen</td>\n",
       "      <td>2.9</td>\n",
       "      <td>25</td>\n",
       "    </tr>\n",
       "  </tbody>\n",
       "</table>\n",
       "</div>"
      ],
      "text/plain": [
       "         Name Vorname  Matrikelnummer            Studienfach Abschluss  \\\n",
       "1      Hanson    Hans           97294  Politikwissenschaften  Bachelor   \n",
       "7   Gustavson  Gustav           33847  Politikwissenschaften  Bachelor   \n",
       "10     Lustig   Peter           73948              Biochemie    Master   \n",
       "\n",
       "   Lieblingsfarbe  Abschlussnote  Alter  \n",
       "1             rot            2.7     34  \n",
       "7            gelb            3.1     27  \n",
       "10          gruen            2.9     25  "
      ]
     },
     "execution_count": 41,
     "metadata": {},
     "output_type": "execute_result"
    }
   ],
   "source": [
    "schlechte_note = data[data[\"Abschlussnote\"] >= 2.5]\n",
    "schlechte_note"
   ]
  },
  {
   "cell_type": "markdown",
   "metadata": {},
   "source": [
    "#### Anwenden von Funktionen"
   ]
  },
  {
   "cell_type": "code",
   "execution_count": 51,
   "metadata": {},
   "outputs": [],
   "source": [
    "def bewertungen(note):\n",
    "    if note <= 1.5:\n",
    "        return \"sehr gut\"\n",
    "    elif note <= 2.5:\n",
    "        return \"gut\"\n",
    "    else:\n",
    "        return \"verbesserungswürdig\""
   ]
  },
  {
   "cell_type": "code",
   "execution_count": 60,
   "metadata": {},
   "outputs": [
    {
     "data": {
      "text/html": [
       "<div>\n",
       "<style scoped>\n",
       "    .dataframe tbody tr th:only-of-type {\n",
       "        vertical-align: middle;\n",
       "    }\n",
       "\n",
       "    .dataframe tbody tr th {\n",
       "        vertical-align: top;\n",
       "    }\n",
       "\n",
       "    .dataframe thead th {\n",
       "        text-align: right;\n",
       "    }\n",
       "</style>\n",
       "<table border=\"1\" class=\"dataframe\">\n",
       "  <thead>\n",
       "    <tr style=\"text-align: right;\">\n",
       "      <th></th>\n",
       "      <th>Name</th>\n",
       "      <th>Vorname</th>\n",
       "      <th>Matrikelnummer</th>\n",
       "      <th>Studienfach</th>\n",
       "      <th>Abschluss</th>\n",
       "      <th>Lieblingsfarbe</th>\n",
       "      <th>Abschlussnote</th>\n",
       "      <th>Alter</th>\n",
       "    </tr>\n",
       "  </thead>\n",
       "  <tbody>\n",
       "    <tr>\n",
       "      <th>0</th>\n",
       "      <td>Peterson</td>\n",
       "      <td>Peter</td>\n",
       "      <td>72940</td>\n",
       "      <td>Literaturgeschichte</td>\n",
       "      <td>Bachelor</td>\n",
       "      <td>lila</td>\n",
       "      <td>sehr gut</td>\n",
       "      <td>23</td>\n",
       "    </tr>\n",
       "    <tr>\n",
       "      <th>1</th>\n",
       "      <td>Hanson</td>\n",
       "      <td>Hans</td>\n",
       "      <td>97294</td>\n",
       "      <td>Politikwissenschaften</td>\n",
       "      <td>Bachelor</td>\n",
       "      <td>rot</td>\n",
       "      <td>verbesserungswürdig</td>\n",
       "      <td>34</td>\n",
       "    </tr>\n",
       "    <tr>\n",
       "      <th>2</th>\n",
       "      <td>Johannson</td>\n",
       "      <td>Johann</td>\n",
       "      <td>15384</td>\n",
       "      <td>Biochemie</td>\n",
       "      <td>Master</td>\n",
       "      <td>gelb</td>\n",
       "      <td>gut</td>\n",
       "      <td>26</td>\n",
       "    </tr>\n",
       "    <tr>\n",
       "      <th>3</th>\n",
       "      <td>Maxson</td>\n",
       "      <td>Max</td>\n",
       "      <td>68536</td>\n",
       "      <td>Mathematik</td>\n",
       "      <td>Bachelor</td>\n",
       "      <td>rot</td>\n",
       "      <td>gut</td>\n",
       "      <td>21</td>\n",
       "    </tr>\n",
       "    <tr>\n",
       "      <th>4</th>\n",
       "      <td>Peterson</td>\n",
       "      <td>Stefanie</td>\n",
       "      <td>57284</td>\n",
       "      <td>Erziehungswissenschaften</td>\n",
       "      <td>Bachelor</td>\n",
       "      <td>blau</td>\n",
       "      <td>gut</td>\n",
       "      <td>24</td>\n",
       "    </tr>\n",
       "    <tr>\n",
       "      <th>5</th>\n",
       "      <td>Müller</td>\n",
       "      <td>Franziska</td>\n",
       "      <td>74893</td>\n",
       "      <td>Biochemie</td>\n",
       "      <td>Bachelor</td>\n",
       "      <td>gruen</td>\n",
       "      <td>sehr gut</td>\n",
       "      <td>23</td>\n",
       "    </tr>\n",
       "    <tr>\n",
       "      <th>6</th>\n",
       "      <td>Schmitt</td>\n",
       "      <td>Hannelore</td>\n",
       "      <td>65302</td>\n",
       "      <td>Romanistik</td>\n",
       "      <td>Master</td>\n",
       "      <td>orange</td>\n",
       "      <td>sehr gut</td>\n",
       "      <td>28</td>\n",
       "    </tr>\n",
       "    <tr>\n",
       "      <th>7</th>\n",
       "      <td>Gustavson</td>\n",
       "      <td>Gustav</td>\n",
       "      <td>33847</td>\n",
       "      <td>Politikwissenschaften</td>\n",
       "      <td>Bachelor</td>\n",
       "      <td>gelb</td>\n",
       "      <td>verbesserungswürdig</td>\n",
       "      <td>27</td>\n",
       "    </tr>\n",
       "    <tr>\n",
       "      <th>8</th>\n",
       "      <td>Meyer</td>\n",
       "      <td>Andrea</td>\n",
       "      <td>94623</td>\n",
       "      <td>Literaturgeschichte</td>\n",
       "      <td>Bachelor</td>\n",
       "      <td>rot</td>\n",
       "      <td>gut</td>\n",
       "      <td>31</td>\n",
       "    </tr>\n",
       "    <tr>\n",
       "      <th>9</th>\n",
       "      <td>Brohm</td>\n",
       "      <td>Annalena</td>\n",
       "      <td>68236</td>\n",
       "      <td>Agrarwirtschaft</td>\n",
       "      <td>Master</td>\n",
       "      <td>gruen</td>\n",
       "      <td>sehr gut</td>\n",
       "      <td>19</td>\n",
       "    </tr>\n",
       "    <tr>\n",
       "      <th>10</th>\n",
       "      <td>Lustig</td>\n",
       "      <td>Peter</td>\n",
       "      <td>73948</td>\n",
       "      <td>Biochemie</td>\n",
       "      <td>Master</td>\n",
       "      <td>gruen</td>\n",
       "      <td>verbesserungswürdig</td>\n",
       "      <td>25</td>\n",
       "    </tr>\n",
       "  </tbody>\n",
       "</table>\n",
       "</div>"
      ],
      "text/plain": [
       "         Name    Vorname  Matrikelnummer               Studienfach Abschluss  \\\n",
       "0    Peterson      Peter           72940       Literaturgeschichte  Bachelor   \n",
       "1      Hanson       Hans           97294     Politikwissenschaften  Bachelor   \n",
       "2   Johannson     Johann           15384                 Biochemie    Master   \n",
       "3      Maxson        Max           68536                Mathematik  Bachelor   \n",
       "4    Peterson   Stefanie           57284  Erziehungswissenschaften  Bachelor   \n",
       "5      Müller  Franziska           74893                 Biochemie  Bachelor   \n",
       "6     Schmitt  Hannelore           65302                Romanistik    Master   \n",
       "7   Gustavson     Gustav           33847     Politikwissenschaften  Bachelor   \n",
       "8       Meyer     Andrea           94623       Literaturgeschichte  Bachelor   \n",
       "9       Brohm   Annalena           68236           Agrarwirtschaft    Master   \n",
       "10     Lustig      Peter           73948                 Biochemie    Master   \n",
       "\n",
       "   Lieblingsfarbe        Abschlussnote  Alter  \n",
       "0            lila             sehr gut     23  \n",
       "1             rot  verbesserungswürdig     34  \n",
       "2            gelb                  gut     26  \n",
       "3             rot                  gut     21  \n",
       "4            blau                  gut     24  \n",
       "5           gruen             sehr gut     23  \n",
       "6          orange             sehr gut     28  \n",
       "7            gelb  verbesserungswürdig     27  \n",
       "8             rot                  gut     31  \n",
       "9           gruen             sehr gut     19  \n",
       "10          gruen  verbesserungswürdig     25  "
      ]
     },
     "execution_count": 60,
     "metadata": {},
     "output_type": "execute_result"
    }
   ],
   "source": [
    "data_temp = data.copy()\n",
    "data_temp[\"Abschlussnote\"] = data[\"Abschlussnote\"].apply(bewertungen)\n",
    "data_temp"
   ]
  },
  {
   "cell_type": "code",
   "execution_count": 61,
   "metadata": {},
   "outputs": [
    {
     "data": {
      "text/html": [
       "<div>\n",
       "<style scoped>\n",
       "    .dataframe tbody tr th:only-of-type {\n",
       "        vertical-align: middle;\n",
       "    }\n",
       "\n",
       "    .dataframe tbody tr th {\n",
       "        vertical-align: top;\n",
       "    }\n",
       "\n",
       "    .dataframe thead th {\n",
       "        text-align: right;\n",
       "    }\n",
       "</style>\n",
       "<table border=\"1\" class=\"dataframe\">\n",
       "  <thead>\n",
       "    <tr style=\"text-align: right;\">\n",
       "      <th></th>\n",
       "      <th>Name</th>\n",
       "      <th>Vorname</th>\n",
       "      <th>Matrikelnummer</th>\n",
       "      <th>Studienfach</th>\n",
       "      <th>Abschluss</th>\n",
       "      <th>Lieblingsfarbe</th>\n",
       "      <th>Abschlussnote</th>\n",
       "      <th>Alter</th>\n",
       "    </tr>\n",
       "  </thead>\n",
       "  <tbody>\n",
       "    <tr>\n",
       "      <th>0</th>\n",
       "      <td>Peterson</td>\n",
       "      <td>Peter</td>\n",
       "      <td>72940</td>\n",
       "      <td>Literaturgeschichte</td>\n",
       "      <td>Bachelor</td>\n",
       "      <td>lila</td>\n",
       "      <td>gut</td>\n",
       "      <td>23</td>\n",
       "    </tr>\n",
       "    <tr>\n",
       "      <th>1</th>\n",
       "      <td>Hanson</td>\n",
       "      <td>Hans</td>\n",
       "      <td>97294</td>\n",
       "      <td>Politikwissenschaften</td>\n",
       "      <td>Bachelor</td>\n",
       "      <td>rot</td>\n",
       "      <td>naja</td>\n",
       "      <td>34</td>\n",
       "    </tr>\n",
       "    <tr>\n",
       "      <th>2</th>\n",
       "      <td>Johannson</td>\n",
       "      <td>Johann</td>\n",
       "      <td>15384</td>\n",
       "      <td>Biochemie</td>\n",
       "      <td>Master</td>\n",
       "      <td>gelb</td>\n",
       "      <td>gut</td>\n",
       "      <td>26</td>\n",
       "    </tr>\n",
       "    <tr>\n",
       "      <th>3</th>\n",
       "      <td>Maxson</td>\n",
       "      <td>Max</td>\n",
       "      <td>68536</td>\n",
       "      <td>Mathematik</td>\n",
       "      <td>Bachelor</td>\n",
       "      <td>rot</td>\n",
       "      <td>gut</td>\n",
       "      <td>21</td>\n",
       "    </tr>\n",
       "    <tr>\n",
       "      <th>4</th>\n",
       "      <td>Peterson</td>\n",
       "      <td>Stefanie</td>\n",
       "      <td>57284</td>\n",
       "      <td>Erziehungswissenschaften</td>\n",
       "      <td>Bachelor</td>\n",
       "      <td>blau</td>\n",
       "      <td>naja</td>\n",
       "      <td>24</td>\n",
       "    </tr>\n",
       "    <tr>\n",
       "      <th>5</th>\n",
       "      <td>Müller</td>\n",
       "      <td>Franziska</td>\n",
       "      <td>74893</td>\n",
       "      <td>Biochemie</td>\n",
       "      <td>Bachelor</td>\n",
       "      <td>gruen</td>\n",
       "      <td>gut</td>\n",
       "      <td>23</td>\n",
       "    </tr>\n",
       "    <tr>\n",
       "      <th>6</th>\n",
       "      <td>Schmitt</td>\n",
       "      <td>Hannelore</td>\n",
       "      <td>65302</td>\n",
       "      <td>Romanistik</td>\n",
       "      <td>Master</td>\n",
       "      <td>orange</td>\n",
       "      <td>gut</td>\n",
       "      <td>28</td>\n",
       "    </tr>\n",
       "    <tr>\n",
       "      <th>7</th>\n",
       "      <td>Gustavson</td>\n",
       "      <td>Gustav</td>\n",
       "      <td>33847</td>\n",
       "      <td>Politikwissenschaften</td>\n",
       "      <td>Bachelor</td>\n",
       "      <td>gelb</td>\n",
       "      <td>naja</td>\n",
       "      <td>27</td>\n",
       "    </tr>\n",
       "    <tr>\n",
       "      <th>8</th>\n",
       "      <td>Meyer</td>\n",
       "      <td>Andrea</td>\n",
       "      <td>94623</td>\n",
       "      <td>Literaturgeschichte</td>\n",
       "      <td>Bachelor</td>\n",
       "      <td>rot</td>\n",
       "      <td>naja</td>\n",
       "      <td>31</td>\n",
       "    </tr>\n",
       "    <tr>\n",
       "      <th>9</th>\n",
       "      <td>Brohm</td>\n",
       "      <td>Annalena</td>\n",
       "      <td>68236</td>\n",
       "      <td>Agrarwirtschaft</td>\n",
       "      <td>Master</td>\n",
       "      <td>gruen</td>\n",
       "      <td>gut</td>\n",
       "      <td>19</td>\n",
       "    </tr>\n",
       "    <tr>\n",
       "      <th>10</th>\n",
       "      <td>Lustig</td>\n",
       "      <td>Peter</td>\n",
       "      <td>73948</td>\n",
       "      <td>Biochemie</td>\n",
       "      <td>Master</td>\n",
       "      <td>gruen</td>\n",
       "      <td>naja</td>\n",
       "      <td>25</td>\n",
       "    </tr>\n",
       "  </tbody>\n",
       "</table>\n",
       "</div>"
      ],
      "text/plain": [
       "         Name    Vorname  Matrikelnummer               Studienfach Abschluss  \\\n",
       "0    Peterson      Peter           72940       Literaturgeschichte  Bachelor   \n",
       "1      Hanson       Hans           97294     Politikwissenschaften  Bachelor   \n",
       "2   Johannson     Johann           15384                 Biochemie    Master   \n",
       "3      Maxson        Max           68536                Mathematik  Bachelor   \n",
       "4    Peterson   Stefanie           57284  Erziehungswissenschaften  Bachelor   \n",
       "5      Müller  Franziska           74893                 Biochemie  Bachelor   \n",
       "6     Schmitt  Hannelore           65302                Romanistik    Master   \n",
       "7   Gustavson     Gustav           33847     Politikwissenschaften  Bachelor   \n",
       "8       Meyer     Andrea           94623       Literaturgeschichte  Bachelor   \n",
       "9       Brohm   Annalena           68236           Agrarwirtschaft    Master   \n",
       "10     Lustig      Peter           73948                 Biochemie    Master   \n",
       "\n",
       "   Lieblingsfarbe Abschlussnote  Alter  \n",
       "0            lila           gut     23  \n",
       "1             rot          naja     34  \n",
       "2            gelb           gut     26  \n",
       "3             rot           gut     21  \n",
       "4            blau          naja     24  \n",
       "5           gruen           gut     23  \n",
       "6          orange           gut     28  \n",
       "7            gelb          naja     27  \n",
       "8             rot          naja     31  \n",
       "9           gruen           gut     19  \n",
       "10          gruen          naja     25  "
      ]
     },
     "execution_count": 61,
     "metadata": {},
     "output_type": "execute_result"
    }
   ],
   "source": [
    "# auch hier können wir mit der anonymen lambda Funktion arbeiten\n",
    "data_temp = data.copy()\n",
    "data_temp[\"Abschlussnote\"] = data[\"Abschlussnote\"].apply(lambda x: \"gut\" if x <= 2.0 else \"naja\")\n",
    "data_temp"
   ]
  },
  {
   "cell_type": "markdown",
   "metadata": {},
   "source": [
    "### Weitere nützliche Operationen"
   ]
  },
  {
   "cell_type": "code",
   "execution_count": 62,
   "metadata": {},
   "outputs": [
    {
     "data": {
      "text/plain": [
       "array(['Literaturgeschichte', 'Politikwissenschaften', 'Biochemie',\n",
       "       'Mathematik', 'Erziehungswissenschaften', 'Romanistik',\n",
       "       'Agrarwirtschaft'], dtype=object)"
      ]
     },
     "execution_count": 62,
     "metadata": {},
     "output_type": "execute_result"
    }
   ],
   "source": [
    "# aus einer Spalte alle einzigartigen Werte erhalten\n",
    "data[\"Studienfach\"].unique()"
   ]
  },
  {
   "cell_type": "markdown",
   "metadata": {},
   "source": [
    "### Gruppieren von Daten\n",
    "Das Gruppieren von Daten ist manchmal sehr nützlich für verschiedene Dinge. Allerdings wird hier ein `GroupBy` Objekt erstellt, was nicht viele Informationen für uns bereithält bis wir ihm sagen, was es tun soll. Aus diesem Grund kombinieren wir `groupby` oft mit Funktionen wie `sum()`, `mean()`, `count()`, usw. Hier sind ein paar Beispiele:"
   ]
  },
  {
   "cell_type": "code",
   "execution_count": 64,
   "metadata": {},
   "outputs": [
    {
     "data": {
      "text/html": [
       "<div>\n",
       "<style scoped>\n",
       "    .dataframe tbody tr th:only-of-type {\n",
       "        vertical-align: middle;\n",
       "    }\n",
       "\n",
       "    .dataframe tbody tr th {\n",
       "        vertical-align: top;\n",
       "    }\n",
       "\n",
       "    .dataframe thead th {\n",
       "        text-align: right;\n",
       "    }\n",
       "</style>\n",
       "<table border=\"1\" class=\"dataframe\">\n",
       "  <thead>\n",
       "    <tr style=\"text-align: right;\">\n",
       "      <th></th>\n",
       "      <th>Name</th>\n",
       "      <th>Vorname</th>\n",
       "      <th>Matrikelnummer</th>\n",
       "      <th>Abschluss</th>\n",
       "      <th>Lieblingsfarbe</th>\n",
       "      <th>Abschlussnote</th>\n",
       "      <th>Alter</th>\n",
       "    </tr>\n",
       "    <tr>\n",
       "      <th>Studienfach</th>\n",
       "      <th></th>\n",
       "      <th></th>\n",
       "      <th></th>\n",
       "      <th></th>\n",
       "      <th></th>\n",
       "      <th></th>\n",
       "      <th></th>\n",
       "    </tr>\n",
       "  </thead>\n",
       "  <tbody>\n",
       "    <tr>\n",
       "      <th>Agrarwirtschaft</th>\n",
       "      <td>1</td>\n",
       "      <td>1</td>\n",
       "      <td>1</td>\n",
       "      <td>1</td>\n",
       "      <td>1</td>\n",
       "      <td>1</td>\n",
       "      <td>1</td>\n",
       "    </tr>\n",
       "    <tr>\n",
       "      <th>Biochemie</th>\n",
       "      <td>3</td>\n",
       "      <td>3</td>\n",
       "      <td>3</td>\n",
       "      <td>3</td>\n",
       "      <td>3</td>\n",
       "      <td>3</td>\n",
       "      <td>3</td>\n",
       "    </tr>\n",
       "    <tr>\n",
       "      <th>Erziehungswissenschaften</th>\n",
       "      <td>1</td>\n",
       "      <td>1</td>\n",
       "      <td>1</td>\n",
       "      <td>1</td>\n",
       "      <td>1</td>\n",
       "      <td>1</td>\n",
       "      <td>1</td>\n",
       "    </tr>\n",
       "    <tr>\n",
       "      <th>Literaturgeschichte</th>\n",
       "      <td>2</td>\n",
       "      <td>2</td>\n",
       "      <td>2</td>\n",
       "      <td>2</td>\n",
       "      <td>2</td>\n",
       "      <td>2</td>\n",
       "      <td>2</td>\n",
       "    </tr>\n",
       "    <tr>\n",
       "      <th>Mathematik</th>\n",
       "      <td>1</td>\n",
       "      <td>1</td>\n",
       "      <td>1</td>\n",
       "      <td>1</td>\n",
       "      <td>1</td>\n",
       "      <td>1</td>\n",
       "      <td>1</td>\n",
       "    </tr>\n",
       "    <tr>\n",
       "      <th>Politikwissenschaften</th>\n",
       "      <td>2</td>\n",
       "      <td>2</td>\n",
       "      <td>2</td>\n",
       "      <td>2</td>\n",
       "      <td>2</td>\n",
       "      <td>2</td>\n",
       "      <td>2</td>\n",
       "    </tr>\n",
       "    <tr>\n",
       "      <th>Romanistik</th>\n",
       "      <td>1</td>\n",
       "      <td>1</td>\n",
       "      <td>1</td>\n",
       "      <td>1</td>\n",
       "      <td>1</td>\n",
       "      <td>1</td>\n",
       "      <td>1</td>\n",
       "    </tr>\n",
       "  </tbody>\n",
       "</table>\n",
       "</div>"
      ],
      "text/plain": [
       "                          Name  Vorname  Matrikelnummer  Abschluss  \\\n",
       "Studienfach                                                          \n",
       "Agrarwirtschaft              1        1               1          1   \n",
       "Biochemie                    3        3               3          3   \n",
       "Erziehungswissenschaften     1        1               1          1   \n",
       "Literaturgeschichte          2        2               2          2   \n",
       "Mathematik                   1        1               1          1   \n",
       "Politikwissenschaften        2        2               2          2   \n",
       "Romanistik                   1        1               1          1   \n",
       "\n",
       "                          Lieblingsfarbe  Abschlussnote  Alter  \n",
       "Studienfach                                                     \n",
       "Agrarwirtschaft                        1              1      1  \n",
       "Biochemie                              3              3      3  \n",
       "Erziehungswissenschaften               1              1      1  \n",
       "Literaturgeschichte                    2              2      2  \n",
       "Mathematik                             1              1      1  \n",
       "Politikwissenschaften                  2              2      2  \n",
       "Romanistik                             1              1      1  "
      ]
     },
     "execution_count": 64,
     "metadata": {},
     "output_type": "execute_result"
    }
   ],
   "source": [
    "data.groupby([\"Studienfach\"]).count()"
   ]
  },
  {
   "cell_type": "code",
   "execution_count": 66,
   "metadata": {},
   "outputs": [
    {
     "data": {
      "text/plain": [
       "Studienfach\n",
       "Agrarwirtschaft             1.20\n",
       "Biochemie                   1.90\n",
       "Erziehungswissenschaften    2.10\n",
       "Literaturgeschichte         1.85\n",
       "Mathematik                  1.90\n",
       "Politikwissenschaften       2.90\n",
       "Romanistik                  1.50\n",
       "Name: Abschlussnote, dtype: float64"
      ]
     },
     "execution_count": 66,
     "metadata": {},
     "output_type": "execute_result"
    }
   ],
   "source": [
    "data.groupby(\"Studienfach\")[\"Abschlussnote\"].mean()"
   ]
  },
  {
   "cell_type": "code",
   "execution_count": 69,
   "metadata": {},
   "outputs": [
    {
     "data": {
      "text/html": [
       "<div>\n",
       "<style scoped>\n",
       "    .dataframe tbody tr th:only-of-type {\n",
       "        vertical-align: middle;\n",
       "    }\n",
       "\n",
       "    .dataframe tbody tr th {\n",
       "        vertical-align: top;\n",
       "    }\n",
       "\n",
       "    .dataframe thead th {\n",
       "        text-align: right;\n",
       "    }\n",
       "</style>\n",
       "<table border=\"1\" class=\"dataframe\">\n",
       "  <thead>\n",
       "    <tr style=\"text-align: right;\">\n",
       "      <th></th>\n",
       "      <th>Lieblingsfarbe</th>\n",
       "      <th>Studienfach</th>\n",
       "      <th>Name</th>\n",
       "      <th>Vorname</th>\n",
       "      <th>Matrikelnummer</th>\n",
       "      <th>Abschluss</th>\n",
       "      <th>Abschlussnote</th>\n",
       "      <th>Alter</th>\n",
       "    </tr>\n",
       "  </thead>\n",
       "  <tbody>\n",
       "    <tr>\n",
       "      <th>0</th>\n",
       "      <td>blau</td>\n",
       "      <td>Erziehungswissenschaften</td>\n",
       "      <td>1</td>\n",
       "      <td>1</td>\n",
       "      <td>1</td>\n",
       "      <td>1</td>\n",
       "      <td>1</td>\n",
       "      <td>1</td>\n",
       "    </tr>\n",
       "    <tr>\n",
       "      <th>1</th>\n",
       "      <td>gelb</td>\n",
       "      <td>Biochemie</td>\n",
       "      <td>1</td>\n",
       "      <td>1</td>\n",
       "      <td>1</td>\n",
       "      <td>1</td>\n",
       "      <td>1</td>\n",
       "      <td>1</td>\n",
       "    </tr>\n",
       "    <tr>\n",
       "      <th>2</th>\n",
       "      <td>gelb</td>\n",
       "      <td>Politikwissenschaften</td>\n",
       "      <td>1</td>\n",
       "      <td>1</td>\n",
       "      <td>1</td>\n",
       "      <td>1</td>\n",
       "      <td>1</td>\n",
       "      <td>1</td>\n",
       "    </tr>\n",
       "    <tr>\n",
       "      <th>3</th>\n",
       "      <td>gruen</td>\n",
       "      <td>Agrarwirtschaft</td>\n",
       "      <td>1</td>\n",
       "      <td>1</td>\n",
       "      <td>1</td>\n",
       "      <td>1</td>\n",
       "      <td>1</td>\n",
       "      <td>1</td>\n",
       "    </tr>\n",
       "    <tr>\n",
       "      <th>4</th>\n",
       "      <td>gruen</td>\n",
       "      <td>Biochemie</td>\n",
       "      <td>2</td>\n",
       "      <td>2</td>\n",
       "      <td>2</td>\n",
       "      <td>2</td>\n",
       "      <td>2</td>\n",
       "      <td>2</td>\n",
       "    </tr>\n",
       "    <tr>\n",
       "      <th>5</th>\n",
       "      <td>lila</td>\n",
       "      <td>Literaturgeschichte</td>\n",
       "      <td>1</td>\n",
       "      <td>1</td>\n",
       "      <td>1</td>\n",
       "      <td>1</td>\n",
       "      <td>1</td>\n",
       "      <td>1</td>\n",
       "    </tr>\n",
       "    <tr>\n",
       "      <th>6</th>\n",
       "      <td>orange</td>\n",
       "      <td>Romanistik</td>\n",
       "      <td>1</td>\n",
       "      <td>1</td>\n",
       "      <td>1</td>\n",
       "      <td>1</td>\n",
       "      <td>1</td>\n",
       "      <td>1</td>\n",
       "    </tr>\n",
       "    <tr>\n",
       "      <th>7</th>\n",
       "      <td>rot</td>\n",
       "      <td>Literaturgeschichte</td>\n",
       "      <td>1</td>\n",
       "      <td>1</td>\n",
       "      <td>1</td>\n",
       "      <td>1</td>\n",
       "      <td>1</td>\n",
       "      <td>1</td>\n",
       "    </tr>\n",
       "    <tr>\n",
       "      <th>8</th>\n",
       "      <td>rot</td>\n",
       "      <td>Mathematik</td>\n",
       "      <td>1</td>\n",
       "      <td>1</td>\n",
       "      <td>1</td>\n",
       "      <td>1</td>\n",
       "      <td>1</td>\n",
       "      <td>1</td>\n",
       "    </tr>\n",
       "    <tr>\n",
       "      <th>9</th>\n",
       "      <td>rot</td>\n",
       "      <td>Politikwissenschaften</td>\n",
       "      <td>1</td>\n",
       "      <td>1</td>\n",
       "      <td>1</td>\n",
       "      <td>1</td>\n",
       "      <td>1</td>\n",
       "      <td>1</td>\n",
       "    </tr>\n",
       "  </tbody>\n",
       "</table>\n",
       "</div>"
      ],
      "text/plain": [
       "  Lieblingsfarbe               Studienfach  Name  Vorname  Matrikelnummer  \\\n",
       "0           blau  Erziehungswissenschaften     1        1               1   \n",
       "1           gelb                 Biochemie     1        1               1   \n",
       "2           gelb     Politikwissenschaften     1        1               1   \n",
       "3          gruen           Agrarwirtschaft     1        1               1   \n",
       "4          gruen                 Biochemie     2        2               2   \n",
       "5           lila       Literaturgeschichte     1        1               1   \n",
       "6         orange                Romanistik     1        1               1   \n",
       "7            rot       Literaturgeschichte     1        1               1   \n",
       "8            rot                Mathematik     1        1               1   \n",
       "9            rot     Politikwissenschaften     1        1               1   \n",
       "\n",
       "   Abschluss  Abschlussnote  Alter  \n",
       "0          1              1      1  \n",
       "1          1              1      1  \n",
       "2          1              1      1  \n",
       "3          1              1      1  \n",
       "4          2              2      2  \n",
       "5          1              1      1  \n",
       "6          1              1      1  \n",
       "7          1              1      1  \n",
       "8          1              1      1  \n",
       "9          1              1      1  "
      ]
     },
     "execution_count": 69,
     "metadata": {},
     "output_type": "execute_result"
    }
   ],
   "source": [
    "data.groupby([\"Lieblingsfarbe\", \"Studienfach\"], as_index=False).count()"
   ]
  }
 ],
 "metadata": {
  "kernelspec": {
   "display_name": "Python 3",
   "language": "python",
   "name": "python3"
  },
  "language_info": {
   "codemirror_mode": {
    "name": "ipython",
    "version": 3
   },
   "file_extension": ".py",
   "mimetype": "text/x-python",
   "name": "python",
   "nbconvert_exporter": "python",
   "pygments_lexer": "ipython3",
   "version": "3.10.4"
  }
 },
 "nbformat": 4,
 "nbformat_minor": 2
}
