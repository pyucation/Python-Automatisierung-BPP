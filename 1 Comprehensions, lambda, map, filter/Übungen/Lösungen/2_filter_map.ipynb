{
 "cells": [
  {
   "cell_type": "markdown",
   "metadata": {},
   "source": [
    "## Aufgabe 1\n",
    "Löse die folgenden Teilaufgaben nacheinander."
   ]
  },
  {
   "cell_type": "code",
   "execution_count": 1,
   "metadata": {},
   "outputs": [
    {
     "name": "stdout",
     "output_type": "stream",
     "text": [
      "[10, 12, 14, 16, 18, 20, 22, 24]\n"
     ]
    }
   ],
   "source": [
    "# gib dir alle ungeraden Zahlen aus, nutze die filter Funktion\n",
    "zahlen = list(range(10, 25))\n",
    "\n",
    "def ist_gerade(x):\n",
    "    if x % 2 == 0:\n",
    "        return True\n",
    "    return False\n",
    "\n",
    "gerade = list(filter(ist_gerade, zahlen))\n",
    "print(gerade)"
   ]
  },
  {
   "cell_type": "code",
   "execution_count": 2,
   "metadata": {},
   "outputs": [
    {
     "name": "stdout",
     "output_type": "stream",
     "text": [
      "['P', 'Y', 'T', 'H', 'O', 'N']\n"
     ]
    }
   ],
   "source": [
    "# gib alle Buchstaben der Liste als Großbuchstaben aus\n",
    "buchstaben = [\"p\", \"y\", \"t\", \"h\", \"o\", \"n\"]\n",
    "\n",
    "def make_upper(s: str):\n",
    "    return s.upper()\n",
    "\n",
    "groß = list(map(make_upper, buchstaben))\n",
    "print(groß)"
   ]
  },
  {
   "cell_type": "code",
   "execution_count": 4,
   "metadata": {},
   "outputs": [
    {
     "name": "stdout",
     "output_type": "stream",
     "text": [
      "['banana', 'cherry']\n"
     ]
    }
   ],
   "source": [
    "# filtere die Liste nach allen Wörter, die länger als 5 Buchstaben sind\n",
    "words = [\"apple\", \"banana\", \"cherry\", \"date\", \"fig\", \"grape\"]\n",
    "\n",
    "def is_longer(word):\n",
    "    return len(word) > 5\n",
    "\n",
    "lange_wörter = list(filter(is_longer, words))\n",
    "print(lange_wörter)"
   ]
  },
  {
   "cell_type": "code",
   "execution_count": 5,
   "metadata": {},
   "outputs": [
    {
     "name": "stdout",
     "output_type": "stream",
     "text": [
      "[32.0, 68.0, 98.6, 212.0]\n"
     ]
    }
   ],
   "source": [
    "# rechne all diese Temperaturen von Celsius in Fahrenheit um\n",
    "temperaturen_celsius = [0, 20, 37, 100]\n",
    "\n",
    "def celsius_in_fahrenheit(temp):\n",
    "    return (temp * 9/5) + 32\n",
    "\n",
    "temperaturen_fahrenheit = list(map(celsius_in_fahrenheit, temperaturen_celsius))\n",
    "print(temperaturen_fahrenheit)"
   ]
  },
  {
   "cell_type": "code",
   "execution_count": null,
   "metadata": {},
   "outputs": [],
   "source": []
  }
 ],
 "metadata": {
  "kernelspec": {
   "display_name": "Python 3",
   "language": "python",
   "name": "python3"
  },
  "language_info": {
   "codemirror_mode": {
    "name": "ipython",
    "version": 3
   },
   "file_extension": ".py",
   "mimetype": "text/x-python",
   "name": "python",
   "nbconvert_exporter": "python",
   "pygments_lexer": "ipython3",
   "version": "3.12.2"
  }
 },
 "nbformat": 4,
 "nbformat_minor": 2
}
