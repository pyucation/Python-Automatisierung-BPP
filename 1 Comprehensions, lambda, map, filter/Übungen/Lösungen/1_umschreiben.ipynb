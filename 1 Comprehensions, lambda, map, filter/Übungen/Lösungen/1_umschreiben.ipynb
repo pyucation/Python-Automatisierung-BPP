{
 "cells": [
  {
   "cell_type": "markdown",
   "metadata": {},
   "source": [
    "## Aufgabe 1 - Lösung\n",
    "Nachfolgend sind mehrere Code-Zellen gegeben. Schreibe diese als `list`, `dict` oder `set` comprehension so um, dass das Ergebnis gleich ist."
   ]
  },
  {
   "cell_type": "markdown",
   "metadata": {},
   "source": [
    "### Einfach"
   ]
  },
  {
   "cell_type": "code",
   "execution_count": 1,
   "metadata": {},
   "outputs": [
    {
     "name": "stdout",
     "output_type": "stream",
     "text": [
      "[2, 4, 6, 8, 10]\n"
     ]
    }
   ],
   "source": [
    "even_numbers = []\n",
    "for i in range(2, 11, 2):\n",
    "    even_numbers.append(i)\n",
    "print(even_numbers)"
   ]
  },
  {
   "cell_type": "code",
   "execution_count": 1,
   "metadata": {},
   "outputs": [
    {
     "name": "stdout",
     "output_type": "stream",
     "text": [
      "[2, 4, 6, 8, 10]\n"
     ]
    }
   ],
   "source": [
    "# dein Code hier\n",
    "even_numbers = [i for i in range(2, 11, 2)]\n",
    "print(even_numbers)"
   ]
  },
  {
   "cell_type": "code",
   "execution_count": 2,
   "metadata": {},
   "outputs": [
    {
     "name": "stdout",
     "output_type": "stream",
     "text": [
      "{'Paris': 13.0, 'Rome': 4.3, 'Berlin': 6.1, 'Sofia': 1.7}\n"
     ]
    }
   ],
   "source": [
    "cities = (\"Paris\", \"Rome\", \"Berlin\", \"Sofia\")\n",
    "metro_populations = (13.0, 4.3, 6.1, 1.7)\n",
    "cities_to_populations = {}\n",
    "for c, p in zip(cities, metro_populations):\n",
    "    cities_to_populations[c] = p\n",
    "print(cities_to_populations)"
   ]
  },
  {
   "cell_type": "code",
   "execution_count": 2,
   "metadata": {},
   "outputs": [
    {
     "name": "stdout",
     "output_type": "stream",
     "text": [
      "{'Paris': 13.0, 'Rome': 4.3, 'Berlin': 6.1, 'Sofia': 1.7}\n"
     ]
    }
   ],
   "source": [
    "# dein Code hier\n",
    "cities = (\"Paris\", \"Rome\", \"Berlin\", \"Sofia\")\n",
    "metro_populations = (13.0, 4.3, 6.1, 1.7)\n",
    "cities_to_populations = {c: p for c, p in zip(cities, metro_populations)}\n",
    "print(cities_to_populations)"
   ]
  },
  {
   "cell_type": "markdown",
   "metadata": {},
   "source": [
    "### Mittel"
   ]
  },
  {
   "cell_type": "code",
   "execution_count": 3,
   "metadata": {},
   "outputs": [
    {
     "name": "stdout",
     "output_type": "stream",
     "text": [
      "{0, 9, 3, 6}\n"
     ]
    }
   ],
   "source": [
    "div_by_3_set = set()\n",
    "for num in range(10):\n",
    "    if num % 3 == 0:\n",
    "        div_by_3_set.add(num)\n",
    "print(div_by_3_set)"
   ]
  },
  {
   "cell_type": "code",
   "execution_count": 3,
   "metadata": {},
   "outputs": [
    {
     "name": "stdout",
     "output_type": "stream",
     "text": [
      "{0, 9, 3, 6}\n"
     ]
    }
   ],
   "source": [
    "# dein Code hier\n",
    "div_by_3_set = {num for num in range(10) if num % 3 == 0}\n",
    "print(div_by_3_set)"
   ]
  },
  {
   "cell_type": "code",
   "execution_count": 4,
   "metadata": {},
   "outputs": [
    {
     "name": "stdout",
     "output_type": "stream",
     "text": [
      "['apple', 'pineapple', 'strawberry', 'melon']\n"
     ]
    }
   ],
   "source": [
    "fruits = [\"apple\", \"banana\", \"pineapple\", \"strawberry\", \"melon\"]\n",
    "e_fruits = []\n",
    "for fruit in fruits:\n",
    "    if fruit.count(\"e\") >= fruit.count(\"a\"):\n",
    "        e_fruits.append(fruit)\n",
    "print(e_fruits)"
   ]
  },
  {
   "cell_type": "code",
   "execution_count": 5,
   "metadata": {},
   "outputs": [
    {
     "name": "stdout",
     "output_type": "stream",
     "text": [
      "['apple', 'pineapple', 'strawberry', 'melon']\n"
     ]
    }
   ],
   "source": [
    "# dein Code hier\n",
    "fruits = [\"apple\", \"banana\", \"pineapple\", \"strawberry\", \"melon\"]\n",
    "e_fruits = [fruit for fruit in fruits if fruit.count(\"e\") >= fruit.count(\"a\")]\n",
    "print(e_fruits)"
   ]
  },
  {
   "cell_type": "code",
   "execution_count": 6,
   "metadata": {},
   "outputs": [
    {
     "name": "stdout",
     "output_type": "stream",
     "text": [
      "['apple', 'pineapple', 'strawberry', 'melon']\n"
     ]
    }
   ],
   "source": [
    "# Zusatzaufgabe: Versuch, die selbe Funktionalität mit filter() + lambda zu erhalten.\n",
    "# interessante Diskussion über filter() + lambda vs. Comprehensions:\n",
    "# https://stackoverflow.com/questions/3013449/list-comprehension-vs-lambda-filter\n",
    "fruits = [\"apple\", \"banana\", \"pineapple\", \"strawberry\", \"melon\"]\n",
    "e_fruits = list(filter(lambda fruit: True if fruit.count(\"e\") >= fruit.count(\"a\") else False, fruits))\n",
    "print(e_fruits)"
   ]
  },
  {
   "cell_type": "code",
   "execution_count": 5,
   "metadata": {},
   "outputs": [
    {
     "name": "stdout",
     "output_type": "stream",
     "text": [
      "[0, 0, 0, 0, 0, 1, 1, 0, 0, 0]\n"
     ]
    }
   ],
   "source": [
    "import math\n",
    "\n",
    "sqrts = []\n",
    "for i in range(10):\n",
    "    if math.sqrt(i) > 2 and math.sqrt(i) < 2.5:\n",
    "        sqrts.append(1)\n",
    "    else:\n",
    "        sqrts.append(0)\n",
    "print(sqrts)"
   ]
  },
  {
   "cell_type": "code",
   "execution_count": 7,
   "metadata": {},
   "outputs": [
    {
     "name": "stdout",
     "output_type": "stream",
     "text": [
      "[0, 0, 0, 0, 0, 1, 1, 0, 0, 0]\n"
     ]
    }
   ],
   "source": [
    "# dein Code hier\n",
    "import math\n",
    "\n",
    "sqrts = [1 if math.sqrt(i) > 2 and math.sqrt(i) < 2.5 else 0 for i in range(10)]\n",
    "print(sqrts)"
   ]
  },
  {
   "cell_type": "markdown",
   "metadata": {},
   "source": [
    "### Schwer"
   ]
  },
  {
   "cell_type": "code",
   "execution_count": 6,
   "metadata": {},
   "outputs": [
    {
     "name": "stdout",
     "output_type": "stream",
     "text": [
      "{1: [1, 2, 3, 4, 5, 6, 7, 8, 9, 10], 2: [2, 4, 6, 8, 10, 12, 14, 16, 18, 20], 3: [3, 6, 9, 12, 15, 18, 21, 24, 27, 30], 4: [4, 8, 12, 16, 20, 24, 28, 32, 36, 40], 5: [5, 10, 15, 20, 25, 30, 35, 40, 45, 50], 6: [6, 12, 18, 24, 30, 36, 42, 48, 54, 60], 7: [7, 14, 21, 28, 35, 42, 49, 56, 63, 70], 8: [8, 16, 24, 32, 40, 48, 56, 64, 72, 80], 9: [9, 18, 27, 36, 45, 54, 63, 72, 81, 90], 10: [10, 20, 30, 40, 50, 60, 70, 80, 90, 100]}\n"
     ]
    }
   ],
   "source": [
    "mult_table = {}\n",
    "for i in range(1, 11):\n",
    "    table = []\n",
    "    for j in range(1, 11):\n",
    "        table.append(i*j)\n",
    "    mult_table[i] = table\n",
    "print(mult_table)"
   ]
  },
  {
   "cell_type": "code",
   "execution_count": 8,
   "metadata": {},
   "outputs": [
    {
     "name": "stdout",
     "output_type": "stream",
     "text": [
      "{1: [1, 2, 3, 4, 5, 6, 7, 8, 9, 10], 2: [1, 2, 3, 4, 5, 6, 7, 8, 9, 10], 3: [1, 2, 3, 4, 5, 6, 7, 8, 9, 10], 4: [1, 2, 3, 4, 5, 6, 7, 8, 9, 10], 5: [1, 2, 3, 4, 5, 6, 7, 8, 9, 10], 6: [1, 2, 3, 4, 5, 6, 7, 8, 9, 10], 7: [1, 2, 3, 4, 5, 6, 7, 8, 9, 10], 8: [1, 2, 3, 4, 5, 6, 7, 8, 9, 10], 9: [1, 2, 3, 4, 5, 6, 7, 8, 9, 10], 10: [1, 2, 3, 4, 5, 6, 7, 8, 9, 10]}\n"
     ]
    }
   ],
   "source": [
    "# dein Code hier\n",
    "mult_table = {i: [j for j in range(1, 11)]\n",
    "              for i in range(1, 11)}\n",
    "print(mult_table)"
   ]
  },
  {
   "cell_type": "code",
   "execution_count": null,
   "metadata": {},
   "outputs": [],
   "source": []
  }
 ],
 "metadata": {
  "kernelspec": {
   "display_name": "Python 3",
   "language": "python",
   "name": "python3"
  },
  "language_info": {
   "codemirror_mode": {
    "name": "ipython",
    "version": 3
   },
   "file_extension": ".py",
   "mimetype": "text/x-python",
   "name": "python",
   "nbconvert_exporter": "python",
   "pygments_lexer": "ipython3",
   "version": "3.12.2"
  }
 },
 "nbformat": 4,
 "nbformat_minor": 2
}
