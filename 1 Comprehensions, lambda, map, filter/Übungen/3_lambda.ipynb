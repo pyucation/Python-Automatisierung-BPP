{
 "cells": [
  {
   "cell_type": "markdown",
   "metadata": {},
   "source": [
    "## Aufgabe:\n",
    "Löse die einzelnen Teilaufgaben. Die Schwierigkeit ist aufsteigend."
   ]
  },
  {
   "cell_type": "code",
   "execution_count": 5,
   "metadata": {},
   "outputs": [
    {
     "name": "stdout",
     "output_type": "stream",
     "text": [
      "[32.0, 68.0, 98.6, 212.0]\n"
     ]
    }
   ],
   "source": [
    "# rechne all diese Temperaturen von Celsius in Fahrenheit um, nutze diesmal die lambda Funktion\n",
    "temperaturen_celsius = [0, 20, 37, 100]"
   ]
  },
  {
   "cell_type": "code",
   "execution_count": 7,
   "metadata": {},
   "outputs": [
    {
     "name": "stdout",
     "output_type": "stream",
     "text": [
      "['arbeit', 'eisenbahn', 'inselgruppe']\n"
     ]
    }
   ],
   "source": [
    "# filtere das Tuple so, dass nur noch Wörter, die mit einem Vokal beginnen, übrigbleiben\n",
    "vokale = (\"a\", \"e\", \"i\", \"o\", \"u\")\n",
    "\n",
    "words = [\"arbeit\", \"kino\", \"mehrwertsteuer\", \"natur\", \"brieftaube\", \"eisenbahn\", \"inselgruppe\"]"
   ]
  },
  {
   "cell_type": "code",
   "execution_count": 3,
   "metadata": {},
   "outputs": [
    {
     "name": "stdout",
     "output_type": "stream",
     "text": [
      "[('Marco Reus', 'BVB'), ('Thomas Müller', 'FCB'), ('Florian Wirtz', 'SVB')]\n",
      "{'Marco Reus': 'BVB', 'Thomas Müller': 'FCB', 'Florian Wirtz': 'SVB'}\n"
     ]
    }
   ],
   "source": [
    "# ordne das Dictionary alphabetisch nach den Values\n",
    "# nutze die lambda Funktion\n",
    "# nutze die Funktion 'sorted'\n",
    "players = {\"Marco Reus\": \"BVB\", \"Thomas Müller\": \"FCB\", \"Florian Wirtz\": \"SVB\"}"
   ]
  },
  {
   "cell_type": "code",
   "execution_count": 6,
   "metadata": {},
   "outputs": [
    {
     "name": "stdout",
     "output_type": "stream",
     "text": [
      "[{'name': 'Bob', 'age': 25}, {'name': 'Diana', 'age': 28}, {'name': 'Alice', 'age': 30}, {'name': 'Charlie', 'age': 35}]\n"
     ]
    }
   ],
   "source": [
    "# gegeben ist eine Liste von Dictionaries, sortiere die Steckbriefe der Personen\n",
    "# nach ihrem Alter\n",
    "people = [\n",
    "    {\"name\": \"Alice\", \"age\": 30},\n",
    "    {\"name\": \"Bob\", \"age\": 25},\n",
    "    {\"name\": \"Charlie\", \"age\": 35},\n",
    "    {\"name\": \"Diana\", \"age\": 28}\n",
    "]"
   ]
  }
 ],
 "metadata": {
  "kernelspec": {
   "display_name": "Python 3",
   "language": "python",
   "name": "python3"
  },
  "language_info": {
   "codemirror_mode": {
    "name": "ipython",
    "version": 3
   },
   "file_extension": ".py",
   "mimetype": "text/x-python",
   "name": "python",
   "nbconvert_exporter": "python",
   "pygments_lexer": "ipython3",
   "version": "3.10.4"
  }
 },
 "nbformat": 4,
 "nbformat_minor": 2
}
