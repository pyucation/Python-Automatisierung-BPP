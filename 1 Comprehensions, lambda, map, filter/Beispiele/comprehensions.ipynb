{
 "cells": [
  {
   "cell_type": "markdown",
   "metadata": {},
   "source": [
    "## List Comprehensions\n",
    "... bietet eine kürzere Syntax, wenn man eine neue Liste auf der Grundlage der Werte einer vorhandenen Liste erstellen möchten. Außerdem ist es prägnante Methode, um neue Listen zu erstellen, indem man eine Ausdrucks- und Bedingungsschleife in eckige Klammern setzt."
   ]
  },
  {
   "cell_type": "code",
   "execution_count": 1,
   "metadata": {},
   "outputs": [
    {
     "name": "stdout",
     "output_type": "stream",
     "text": [
      "[0, 1, 2, 3]\n"
     ]
    }
   ],
   "source": [
    "# statt\n",
    "meine_liste = []\n",
    "for i in range(4):\n",
    "    meine_liste.append(i)\n",
    "print(meine_liste)"
   ]
  },
  {
   "cell_type": "code",
   "execution_count": 2,
   "metadata": {},
   "outputs": [
    {
     "name": "stdout",
     "output_type": "stream",
     "text": [
      "[0, 1, 2, 3]\n"
     ]
    }
   ],
   "source": [
    "# schreiben wir das\n",
    "meine_liste = [i for i in range(4)]\n",
    "print(meine_liste)"
   ]
  },
  {
   "cell_type": "code",
   "execution_count": 3,
   "metadata": {},
   "outputs": [
    {
     "name": "stdout",
     "output_type": "stream",
     "text": [
      "{'P', 'n', 'y', 'o', 'h', 't'}\n"
     ]
    }
   ],
   "source": [
    "# gleiches Prinzip für Sets\n",
    "my_set = set()\n",
    "for b in \"Python\":\n",
    "    my_set.add(b)\n",
    "print(my_set)"
   ]
  },
  {
   "cell_type": "code",
   "execution_count": 4,
   "metadata": {},
   "outputs": [
    {
     "name": "stdout",
     "output_type": "stream",
     "text": [
      "{'P', 'n', 'y', 'o', 'h', 't'}\n"
     ]
    }
   ],
   "source": [
    "# als set comprehension\n",
    "my_set = {b for b in \"Python\"}\n",
    "print(my_set)"
   ]
  },
  {
   "cell_type": "markdown",
   "metadata": {},
   "source": [
    "Wir können sogar Kontrollstrukturen wie `if` einbauen. Dazu muss man beachten:\n",
    "- steht das `if` hinter der `for` loop wir selektiv hinzugefügt, d.h. möglicherweise wird nicht jedes Element hinzugefügt, die Länge der Liste ist ungewiss\n",
    "- steht das `if` hingegen vor der `for` loop, ist die Länge der Liste fix und nur das Element selbst ist ungewiss\n",
    "\n",
    "Ein Beispiel:"
   ]
  },
  {
   "cell_type": "code",
   "execution_count": 5,
   "metadata": {},
   "outputs": [
    {
     "name": "stdout",
     "output_type": "stream",
     "text": [
      "[2, 4, 6, 8, 10]\n"
     ]
    }
   ],
   "source": [
    "# Fall 1: if hinten (selektiv)\n",
    "gerade_zahlen = [i for i in range(1, 11) if i % 2 == 0]\n",
    "print(gerade_zahlen)"
   ]
  },
  {
   "cell_type": "code",
   "execution_count": 6,
   "metadata": {},
   "outputs": [
    {
     "name": "stdout",
     "output_type": "stream",
     "text": [
      "['foo', 2, 'foo', 4, 'foo', 6, 'foo', 8, 'foo', 10]\n"
     ]
    }
   ],
   "source": [
    "# Fall 2: if vorne (nicht selektiv)\n",
    "zahlen = [i if i % 2 == 0 else \"foo\" for i in range(1, 11)]\n",
    "print(zahlen)"
   ]
  },
  {
   "cell_type": "code",
   "execution_count": 7,
   "metadata": {},
   "outputs": [
    {
     "name": "stdout",
     "output_type": "stream",
     "text": [
      "[2, 4, 6, 8, 10]\n"
     ]
    }
   ],
   "source": [
    "# zum besseren Verständnis kann man sich beide Fälle skizzieren\n",
    "# Fall 1 als normale for loop\n",
    "gerade_zahlen = []\n",
    "for i in range(1, 11):\n",
    "    if i % 2 == 0:\n",
    "        gerade_zahlen.append(i)\n",
    "print(gerade_zahlen)"
   ]
  },
  {
   "cell_type": "code",
   "execution_count": 8,
   "metadata": {},
   "outputs": [
    {
     "name": "stdout",
     "output_type": "stream",
     "text": [
      "['foo', 2, 'foo', 4, 'foo', 6, 'foo', 8, 'foo', 10]\n"
     ]
    }
   ],
   "source": [
    "# Fall 2 als normale for loop\n",
    "zahlen = []\n",
    "for i in range(1, 11):\n",
    "    if i % 2 == 0:\n",
    "        zahlen.append(i)\n",
    "    else:\n",
    "        zahlen.append(\"foo\")\n",
    "print(zahlen)"
   ]
  },
  {
   "cell_type": "markdown",
   "metadata": {},
   "source": [
    "### Dict Comprehension\n",
    "... funktioniert äquivalent zu den `list` comprehensions. Dictinaries sind Schlüssel-Werte-Paare, d.h. wir müssen auch beides angeben."
   ]
  },
  {
   "cell_type": "code",
   "execution_count": 9,
   "metadata": {},
   "outputs": [
    {
     "name": "stdout",
     "output_type": "stream",
     "text": [
      "{'Schmidt': 'Wolfgang', 'Müller': 'Henriette', 'Bäcker': 'Klaudia'}\n"
     ]
    }
   ],
   "source": [
    "# statt\n",
    "my_dict = {}\n",
    "namen = [\"Schmidt\", \"Müller\", \"Bäcker\"]\n",
    "vornamen = [\"Wolfgang\", \"Henriette\", \"Klaudia\"]\n",
    "for vorname, name in zip(vornamen, namen):\n",
    "    my_dict[name] = vorname\n",
    "print(my_dict)"
   ]
  },
  {
   "cell_type": "code",
   "execution_count": 10,
   "metadata": {},
   "outputs": [
    {
     "name": "stdout",
     "output_type": "stream",
     "text": [
      "{'Schmidt': 'Wolfgang', 'Müller': 'Henriette', 'Bäcker': 'Klaudia'}\n"
     ]
    }
   ],
   "source": [
    "# können wir das machen\n",
    "namen = [\"Schmidt\", \"Müller\", \"Bäcker\"]\n",
    "vornamen = [\"Wolfgang\", \"Henriette\", \"Klaudia\"]\n",
    "\n",
    "my_dict = {name: vorname for vorname, name in zip(vornamen, namen)}\n",
    "print(my_dict)"
   ]
  },
  {
   "cell_type": "code",
   "execution_count": null,
   "metadata": {},
   "outputs": [],
   "source": [
    "# allgemein also (nicht ausführbares Beispiel)\n",
    "some_iterable = ...\n",
    "d = {key: value for key, value in some_iterable}"
   ]
  },
  {
   "cell_type": "markdown",
   "metadata": {},
   "source": [
    "### Gibt es auch `tuple` Comrehensions?\n",
    "Man könnte meinen: Listen -> eckige Klammern, Sets -> geschweifte Klammern, Dictionary -> geschweifte Klammern mit Key-Value-Paaren."
   ]
  },
  {
   "cell_type": "code",
   "execution_count": 12,
   "metadata": {},
   "outputs": [
    {
     "name": "stdout",
     "output_type": "stream",
     "text": [
      "<generator object <genexpr> at 0x000002088B5D11C0>\n"
     ]
    }
   ],
   "source": [
    "my_tuple = (i for i in range(3))\n",
    "print(my_tuple)"
   ]
  },
  {
   "cell_type": "markdown",
   "metadata": {},
   "source": [
    "... die runden Klammern sind für Generatoren reserviert."
   ]
  }
 ],
 "metadata": {
  "kernelspec": {
   "display_name": "Python 3",
   "language": "python",
   "name": "python3"
  },
  "language_info": {
   "codemirror_mode": {
    "name": "ipython",
    "version": 3
   },
   "file_extension": ".py",
   "mimetype": "text/x-python",
   "name": "python",
   "nbconvert_exporter": "python",
   "pygments_lexer": "ipython3",
   "version": "3.10.4"
  }
 },
 "nbformat": 4,
 "nbformat_minor": 2
}
