{
 "cells": [
  {
   "cell_type": "markdown",
   "metadata": {},
   "source": [
    "## Lambda Funktion\n",
    "`lambda` ist ein Schlüsselwort in Python, das verwendet wird, um anonyme Funktionen zu erstellen. Eine lambda-Funktion kann beliebig viele Argumente haben, hat aber nur einen Ausdruck. Anonyme Funktionen sind Funktionen, die keinen Namen haben und mit dem `lambda` Ausdruck definiert werden können."
   ]
  },
  {
   "cell_type": "code",
   "execution_count": 1,
   "metadata": {},
   "outputs": [
    {
     "name": "stdout",
     "output_type": "stream",
     "text": [
      "16\n"
     ]
    }
   ],
   "source": [
    "# Erinnerung: In Python ist alles ein Objekt! So können wir auch Funktionen an Variablen\n",
    "# übergeben und diese später aufrufen (das nennt sich 'first class function' und ist ein\n",
    "# Konzept für professionelle Python-Programmierer)\n",
    "my_func = lambda x: x**2\n",
    "ergebnis = my_func(4)\n",
    "print(ergebnis)"
   ]
  },
  {
   "cell_type": "code",
   "execution_count": 2,
   "metadata": {},
   "outputs": [
    {
     "name": "stdout",
     "output_type": "stream",
     "text": [
      "16\n"
     ]
    }
   ],
   "source": [
    "# das obere ist äquivalent zu\n",
    "def square(x):\n",
    "    return x ** 2\n",
    "\n",
    "ergebnis = square(4)\n",
    "print(ergebnis)"
   ]
  },
  {
   "cell_type": "markdown",
   "metadata": {},
   "source": [
    "`lambda` sind kürzer und werden daher häufig für einfache Operationen verwendet. Allerdings werden herkömmliche Funktionen bevorzugt, wenn der Code komplexer wird (mehr als eine Zeile meistens)."
   ]
  },
  {
   "cell_type": "code",
   "execution_count": 3,
   "metadata": {},
   "outputs": [
    {
     "name": "stdout",
     "output_type": "stream",
     "text": [
      "13\n"
     ]
    }
   ],
   "source": [
    "# lambda mit mehreren Parametern\n",
    "add = lambda x, y: x + y\n",
    "print(add(5, 8))"
   ]
  },
  {
   "cell_type": "code",
   "execution_count": 4,
   "metadata": {},
   "outputs": [
    {
     "name": "stdout",
     "output_type": "stream",
     "text": [
      "[34]\n"
     ]
    }
   ],
   "source": [
    "# wir verwenden lambda oft im Zusammenhang mit filter und map\n",
    "zahlen = [7, 11, 34, 17, 99, 51, 3]\n",
    "gerade_zahlen = list(filter(lambda x: x % 2 == 0, zahlen))\n",
    "print(gerade_zahlen)"
   ]
  },
  {
   "cell_type": "code",
   "execution_count": 5,
   "metadata": {},
   "outputs": [
    {
     "name": "stdout",
     "output_type": "stream",
     "text": [
      "[2.6457513110645907, 3.3166247903554, 5.830951894845301, 4.123105625617661, 9.9498743710662, 7.14142842854285, 1.7320508075688772]\n"
     ]
    }
   ],
   "source": [
    "zahlen = [7, 11, 34, 17, 99, 51, 3]\n",
    "wurzel_zahlen = list(map(lambda a: a ** (1/2), zahlen))\n",
    "print(wurzel_zahlen)"
   ]
  }
 ],
 "metadata": {
  "kernelspec": {
   "display_name": "Python 3",
   "language": "python",
   "name": "python3"
  },
  "language_info": {
   "codemirror_mode": {
    "name": "ipython",
    "version": 3
   },
   "file_extension": ".py",
   "mimetype": "text/x-python",
   "name": "python",
   "nbconvert_exporter": "python",
   "pygments_lexer": "ipython3",
   "version": "3.10.4"
  }
 },
 "nbformat": 4,
 "nbformat_minor": 2
}
