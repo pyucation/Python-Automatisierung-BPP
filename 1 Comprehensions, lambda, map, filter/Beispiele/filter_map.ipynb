{
 "cells": [
  {
   "cell_type": "markdown",
   "metadata": {},
   "source": [
    "## `filter` Funktion\n",
    "... ist eine eingebaute Funktion in Python, die ein Iterator-Objekt zurückgibt, das nur die Elemente enthält, die eine bestimmte Bedingung erfüllen. Die Bedingung wird als Funktion übergeben, die jedes Element der Sequenz prüft.\n",
    "Die Syntax ist: `filter(function, iterable)`"
   ]
  },
  {
   "cell_type": "code",
   "execution_count": 1,
   "metadata": {},
   "outputs": [
    {
     "name": "stdout",
     "output_type": "stream",
     "text": [
      "34\n",
      "99\n",
      "51\n"
     ]
    }
   ],
   "source": [
    "# Beispiel\n",
    "def altersbegrenzung(alter: int):\n",
    "    if alter < 18:\n",
    "        return False\n",
    "    return True\n",
    "\n",
    "ages = [7, 11, 34, 17, 99, 51, 3]\n",
    "# die Funktion wird als Objekt übergeben und nicht aufgerufen!\n",
    "erwachsene = filter(altersbegrenzung, ages)\n",
    "\n",
    "for x in erwachsene:\n",
    "    print(x)"
   ]
  },
  {
   "cell_type": "code",
   "execution_count": 2,
   "metadata": {},
   "outputs": [
    {
     "name": "stdout",
     "output_type": "stream",
     "text": [
      "[34, 99, 51]\n"
     ]
    }
   ],
   "source": [
    "# oder kürzer\n",
    "erwachsene = list(filter(altersbegrenzung, ages))\n",
    "print(erwachsene)"
   ]
  },
  {
   "cell_type": "markdown",
   "metadata": {},
   "source": [
    "## `map` Funktion\n",
    "... ist eine eingebaute Funktion in Python, die eine Funktion auf **jedes** Element einer Sequenz anwendet und ein Iterator-Objekt zurückgibt, das die Ergebnisse enthält. Dabei wird jedes einzelne Element als Argument an die Funktion übergeben.\n",
    "Syntax: `map(function, iterable)`"
   ]
  },
  {
   "cell_type": "code",
   "execution_count": 1,
   "metadata": {},
   "outputs": [
    {
     "name": "stdout",
     "output_type": "stream",
     "text": [
      "1\n",
      "4\n",
      "9\n",
      "16\n"
     ]
    }
   ],
   "source": [
    "# Beispiel\n",
    "def quadrieren(x):\n",
    "    return x ** 2\n",
    "\n",
    "zahlen = [1, 2, 3, 4]\n",
    "quadrierte_zahlen = map(quadrieren, zahlen)\n",
    "\n",
    "for x in quadrierte_zahlen:\n",
    "    print(x)"
   ]
  },
  {
   "cell_type": "code",
   "execution_count": 2,
   "metadata": {},
   "outputs": [
    {
     "name": "stdout",
     "output_type": "stream",
     "text": [
      "[1, 4, 9, 16]\n"
     ]
    }
   ],
   "source": [
    "# oder kürzer\n",
    "quadrierte_zahlen = list(map(quadrieren, zahlen))\n",
    "print(quadrierte_zahlen)"
   ]
  },
  {
   "cell_type": "code",
   "execution_count": null,
   "metadata": {},
   "outputs": [],
   "source": []
  }
 ],
 "metadata": {
  "kernelspec": {
   "display_name": "Python 3",
   "language": "python",
   "name": "python3"
  },
  "language_info": {
   "codemirror_mode": {
    "name": "ipython",
    "version": 3
   },
   "file_extension": ".py",
   "mimetype": "text/x-python",
   "name": "python",
   "nbconvert_exporter": "python",
   "pygments_lexer": "ipython3",
   "version": "3.10.4"
  }
 },
 "nbformat": 4,
 "nbformat_minor": 2
}
